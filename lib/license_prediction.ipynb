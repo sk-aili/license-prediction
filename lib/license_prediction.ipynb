{
 "cells": [
  {
   "cell_type": "markdown",
   "metadata": {},
   "source": [
    "# Project Overview\n",
    "\n",
    "We are given a license dataset which holds various information related to a business license. The objective is to predict license status for the given business."
   ]
  },
  {
   "cell_type": "markdown",
   "metadata": {},
   "source": [
    "Project Plan    \n",
    "1. Setup environment\n",
    "    - install requirements\n",
    "    - import required packages\n",
    "    - import and read data\n",
    "2. Data Exploration\n",
    "3. Feature Selection\n",
    "4. Model building\n",
    "5. Model Evaluation\n",
    "6. Results"
   ]
  },
  {
   "cell_type": "markdown",
   "metadata": {},
   "source": [
    "# Setup environment"
   ]
  },
  {
   "cell_type": "markdown",
   "metadata": {},
   "source": [
    "Install requirements"
   ]
  },
  {
   "cell_type": "code",
   "execution_count": 1,
   "metadata": {},
   "outputs": [
    {
     "name": "stdout",
     "output_type": "stream",
     "text": [
      "\u001b[33mWARNING: You are using pip version 21.2.4; however, version 23.1.2 is available.\n",
      "You should consider upgrading via the '/Users/saili/Library/CloudStorage/OneDrive-GeorgeMasonUniversity-O365Production/Bag/projects/ml/.env/bin/python3 -m pip install --upgrade pip' command.\u001b[0m\n"
     ]
    }
   ],
   "source": [
    "! pip install category_encoders --quiet"
   ]
  },
  {
   "cell_type": "code",
   "execution_count": 92,
   "metadata": {},
   "outputs": [
    {
     "name": "stdout",
     "output_type": "stream",
     "text": [
      "\u001b[33mWARNING: You are using pip version 21.2.4; however, version 23.1.2 is available.\n",
      "You should consider upgrading via the '/Users/saili/Library/CloudStorage/OneDrive-GeorgeMasonUniversity-O365Production/Bag/projects/ml/.env/bin/python3 -m pip install --upgrade pip' command.\u001b[0m\n"
     ]
    }
   ],
   "source": [
    "! pip install xgboost --quiet"
   ]
  },
  {
   "cell_type": "code",
   "execution_count": 111,
   "metadata": {},
   "outputs": [
    {
     "name": "stdout",
     "output_type": "stream",
     "text": [
      "\u001b[33mWARNING: You are using pip version 21.2.4; however, version 23.1.2 is available.\n",
      "You should consider upgrading via the '/Users/saili/Library/CloudStorage/OneDrive-GeorgeMasonUniversity-O365Production/Bag/projects/ml/.env/bin/python3 -m pip install --upgrade pip' command.\u001b[0m\n"
     ]
    }
   ],
   "source": [
    "! pip install hyperopt --quiet"
   ]
  },
  {
   "cell_type": "markdown",
   "metadata": {},
   "source": [
    "Import packages"
   ]
  },
  {
   "cell_type": "code",
   "execution_count": 114,
   "metadata": {},
   "outputs": [],
   "source": [
    "import numpy as np\n",
    "import pandas as pd\n",
    "import matplotlib.pyplot as plt\n",
    "import category_encoders as cat_enc\n",
    "from sklearn.model_selection import train_test_split, RandomizedSearchCV, GridSearchCV\n",
    "from sklearn.ensemble import RandomForestClassifier, AdaBoostClassifier\n",
    "from sklearn.metrics import f1_score, classification_report, confusion_matrix\n",
    "from sklearn.neighbors import KNeighborsClassifier\n",
    "from sklearn.preprocessing import MinMaxScaler\n",
    "from sklearn.linear_model import LogisticRegression\n",
    "from sklearn.naive_bayes import GaussianNB\n",
    "from sklearn.tree import DecisionTreeClassifier\n",
    "import seaborn as sns\n",
    "from xgboost import XGBClassifier\n",
    "from hyperopt import hp, fmin, tpe, Trials"
   ]
  },
  {
   "cell_type": "markdown",
   "metadata": {},
   "source": [
    "Import data"
   ]
  },
  {
   "cell_type": "code",
   "execution_count": 3,
   "metadata": {},
   "outputs": [
    {
     "name": "stderr",
     "output_type": "stream",
     "text": [
      "/var/folders/nt/h1n768v954b6xdhvrsg59fl80000gn/T/ipykernel_10490/4196120087.py:1: DtypeWarning: Columns (9) have mixed types. Specify dtype option on import or set low_memory=False.\n",
      "  df = pd.read_csv(\"../input/license.csv\")\n"
     ]
    },
    {
     "data": {
      "text/html": [
       "<div>\n",
       "<style scoped>\n",
       "    .dataframe tbody tr th:only-of-type {\n",
       "        vertical-align: middle;\n",
       "    }\n",
       "\n",
       "    .dataframe tbody tr th {\n",
       "        vertical-align: top;\n",
       "    }\n",
       "\n",
       "    .dataframe thead th {\n",
       "        text-align: right;\n",
       "    }\n",
       "</style>\n",
       "<table border=\"1\" class=\"dataframe\">\n",
       "  <thead>\n",
       "    <tr style=\"text-align: right;\">\n",
       "      <th></th>\n",
       "      <th>ID</th>\n",
       "      <th>LICENSE ID</th>\n",
       "      <th>ACCOUNT NUMBER</th>\n",
       "      <th>SITE NUMBER</th>\n",
       "      <th>LEGAL NAME</th>\n",
       "      <th>DOING BUSINESS AS NAME</th>\n",
       "      <th>ADDRESS</th>\n",
       "      <th>CITY</th>\n",
       "      <th>STATE</th>\n",
       "      <th>ZIP CODE</th>\n",
       "      <th>...</th>\n",
       "      <th>LICENSE TERM START DATE</th>\n",
       "      <th>LICENSE TERM EXPIRATION DATE</th>\n",
       "      <th>LICENSE APPROVED FOR ISSUANCE</th>\n",
       "      <th>DATE ISSUED</th>\n",
       "      <th>LICENSE STATUS CHANGE DATE</th>\n",
       "      <th>SSA</th>\n",
       "      <th>LATITUDE</th>\n",
       "      <th>LONGITUDE</th>\n",
       "      <th>LOCATION</th>\n",
       "      <th>LICENSE STATUS</th>\n",
       "    </tr>\n",
       "  </thead>\n",
       "  <tbody>\n",
       "    <tr>\n",
       "      <th>0</th>\n",
       "      <td>35342-20020816</td>\n",
       "      <td>1256593</td>\n",
       "      <td>32811</td>\n",
       "      <td>1</td>\n",
       "      <td>CARMEN CAHUE</td>\n",
       "      <td>CLAUDIA'S BRIDAL SHOP</td>\n",
       "      <td>2625 S CENTRAL PARK AVE  1</td>\n",
       "      <td>CHICAGO</td>\n",
       "      <td>IL</td>\n",
       "      <td>60623.0</td>\n",
       "      <td>...</td>\n",
       "      <td>2002-08-16T00:00:00</td>\n",
       "      <td>2003-08-15T00:00:00</td>\n",
       "      <td>2002-08-21T00:00:00</td>\n",
       "      <td>2006-04-11T00:00:00</td>\n",
       "      <td>NaN</td>\n",
       "      <td>25.0</td>\n",
       "      <td>41.843613</td>\n",
       "      <td>-87.714618</td>\n",
       "      <td>{'latitude': '41.843612879431845', 'longitude'...</td>\n",
       "      <td>AAI</td>\n",
       "    </tr>\n",
       "    <tr>\n",
       "      <th>1</th>\n",
       "      <td>1358463-20051116</td>\n",
       "      <td>1639294</td>\n",
       "      <td>262311</td>\n",
       "      <td>29</td>\n",
       "      <td>ISLA TROPICAL, INC.</td>\n",
       "      <td>ISLA TROPICAL</td>\n",
       "      <td>2825 W MONTROSE AVE</td>\n",
       "      <td>CHICAGO</td>\n",
       "      <td>IL</td>\n",
       "      <td>60618</td>\n",
       "      <td>...</td>\n",
       "      <td>2005-11-16T00:00:00</td>\n",
       "      <td>2006-11-15T00:00:00</td>\n",
       "      <td>2006-04-05T00:00:00</td>\n",
       "      <td>2006-06-12T00:00:00</td>\n",
       "      <td>2006-06-15T00:00:00</td>\n",
       "      <td>60.0</td>\n",
       "      <td>41.961132</td>\n",
       "      <td>-87.699626</td>\n",
       "      <td>{'latitude': '41.96113244107215', 'longitude':...</td>\n",
       "      <td>AAC</td>\n",
       "    </tr>\n",
       "    <tr>\n",
       "      <th>2</th>\n",
       "      <td>1980233-20090722</td>\n",
       "      <td>1980233</td>\n",
       "      <td>345008</td>\n",
       "      <td>1</td>\n",
       "      <td>DJS REMODELING</td>\n",
       "      <td>DJS REMODELING, INC.</td>\n",
       "      <td>1605  CLAVEY RD 1</td>\n",
       "      <td>HIGHLAND</td>\n",
       "      <td>IL</td>\n",
       "      <td>60035</td>\n",
       "      <td>...</td>\n",
       "      <td>2009-07-22T00:00:00</td>\n",
       "      <td>2011-07-15T00:00:00</td>\n",
       "      <td>2009-07-22T00:00:00</td>\n",
       "      <td>2009-07-22T00:00:00</td>\n",
       "      <td>NaN</td>\n",
       "      <td>NaN</td>\n",
       "      <td>NaN</td>\n",
       "      <td>NaN</td>\n",
       "      <td>NaN</td>\n",
       "      <td>AAI</td>\n",
       "    </tr>\n",
       "    <tr>\n",
       "      <th>3</th>\n",
       "      <td>1476582-20040211</td>\n",
       "      <td>1476582</td>\n",
       "      <td>273121</td>\n",
       "      <td>1</td>\n",
       "      <td>ALL-BRY CONSTRUCTION CO.</td>\n",
       "      <td>ALL-BRY CONSTRUCTION CO.</td>\n",
       "      <td>8  NORTH TRAIL</td>\n",
       "      <td>LEMONT</td>\n",
       "      <td>IL</td>\n",
       "      <td>60439</td>\n",
       "      <td>...</td>\n",
       "      <td>2004-02-11T00:00:00</td>\n",
       "      <td>2005-02-15T00:00:00</td>\n",
       "      <td>2004-02-10T00:00:00</td>\n",
       "      <td>2004-02-11T00:00:00</td>\n",
       "      <td>NaN</td>\n",
       "      <td>NaN</td>\n",
       "      <td>NaN</td>\n",
       "      <td>NaN</td>\n",
       "      <td>NaN</td>\n",
       "      <td>AAI</td>\n",
       "    </tr>\n",
       "    <tr>\n",
       "      <th>4</th>\n",
       "      <td>1141408-20080516</td>\n",
       "      <td>1896750</td>\n",
       "      <td>213785</td>\n",
       "      <td>1</td>\n",
       "      <td>MCDONOUGH MECHANICAL SERVICE</td>\n",
       "      <td>MCDONOUGH MECHANICAL SERVICE</td>\n",
       "      <td>4081  JOSEPH DR</td>\n",
       "      <td>WAUKEGAN</td>\n",
       "      <td>IL</td>\n",
       "      <td>60087</td>\n",
       "      <td>...</td>\n",
       "      <td>2008-05-16T00:00:00</td>\n",
       "      <td>2010-05-15T00:00:00</td>\n",
       "      <td>2008-06-04T00:00:00</td>\n",
       "      <td>2008-06-05T00:00:00</td>\n",
       "      <td>NaN</td>\n",
       "      <td>NaN</td>\n",
       "      <td>NaN</td>\n",
       "      <td>NaN</td>\n",
       "      <td>NaN</td>\n",
       "      <td>AAI</td>\n",
       "    </tr>\n",
       "  </tbody>\n",
       "</table>\n",
       "<p>5 rows × 32 columns</p>\n",
       "</div>"
      ],
      "text/plain": [
       "                 ID  LICENSE ID  ACCOUNT NUMBER  SITE NUMBER  \\\n",
       "0    35342-20020816     1256593           32811            1   \n",
       "1  1358463-20051116     1639294          262311           29   \n",
       "2  1980233-20090722     1980233          345008            1   \n",
       "3  1476582-20040211     1476582          273121            1   \n",
       "4  1141408-20080516     1896750          213785            1   \n",
       "\n",
       "                     LEGAL NAME        DOING BUSINESS AS NAME  \\\n",
       "0                  CARMEN CAHUE         CLAUDIA'S BRIDAL SHOP   \n",
       "1           ISLA TROPICAL, INC.                 ISLA TROPICAL   \n",
       "2                DJS REMODELING          DJS REMODELING, INC.   \n",
       "3      ALL-BRY CONSTRUCTION CO.      ALL-BRY CONSTRUCTION CO.   \n",
       "4  MCDONOUGH MECHANICAL SERVICE  MCDONOUGH MECHANICAL SERVICE   \n",
       "\n",
       "                      ADDRESS      CITY STATE ZIP CODE  ...  \\\n",
       "0  2625 S CENTRAL PARK AVE  1   CHICAGO    IL  60623.0  ...   \n",
       "1         2825 W MONTROSE AVE   CHICAGO    IL    60618  ...   \n",
       "2           1605  CLAVEY RD 1  HIGHLAND    IL    60035  ...   \n",
       "3              8  NORTH TRAIL    LEMONT    IL    60439  ...   \n",
       "4             4081  JOSEPH DR  WAUKEGAN    IL    60087  ...   \n",
       "\n",
       "   LICENSE TERM START DATE  LICENSE TERM EXPIRATION DATE  \\\n",
       "0      2002-08-16T00:00:00           2003-08-15T00:00:00   \n",
       "1      2005-11-16T00:00:00           2006-11-15T00:00:00   \n",
       "2      2009-07-22T00:00:00           2011-07-15T00:00:00   \n",
       "3      2004-02-11T00:00:00           2005-02-15T00:00:00   \n",
       "4      2008-05-16T00:00:00           2010-05-15T00:00:00   \n",
       "\n",
       "  LICENSE APPROVED FOR ISSUANCE          DATE ISSUED  \\\n",
       "0           2002-08-21T00:00:00  2006-04-11T00:00:00   \n",
       "1           2006-04-05T00:00:00  2006-06-12T00:00:00   \n",
       "2           2009-07-22T00:00:00  2009-07-22T00:00:00   \n",
       "3           2004-02-10T00:00:00  2004-02-11T00:00:00   \n",
       "4           2008-06-04T00:00:00  2008-06-05T00:00:00   \n",
       "\n",
       "   LICENSE STATUS CHANGE DATE   SSA   LATITUDE  LONGITUDE  \\\n",
       "0                         NaN  25.0  41.843613 -87.714618   \n",
       "1         2006-06-15T00:00:00  60.0  41.961132 -87.699626   \n",
       "2                         NaN   NaN        NaN        NaN   \n",
       "3                         NaN   NaN        NaN        NaN   \n",
       "4                         NaN   NaN        NaN        NaN   \n",
       "\n",
       "                                            LOCATION LICENSE STATUS  \n",
       "0  {'latitude': '41.843612879431845', 'longitude'...            AAI  \n",
       "1  {'latitude': '41.96113244107215', 'longitude':...            AAC  \n",
       "2                                                NaN            AAI  \n",
       "3                                                NaN            AAI  \n",
       "4                                                NaN            AAI  \n",
       "\n",
       "[5 rows x 32 columns]"
      ]
     },
     "execution_count": 3,
     "metadata": {},
     "output_type": "execute_result"
    }
   ],
   "source": [
    "df = pd.read_csv(\"../input/license.csv\")\n",
    "df.head()"
   ]
  },
  {
   "cell_type": "markdown",
   "metadata": {},
   "source": [
    "# Data exploration"
   ]
  },
  {
   "cell_type": "markdown",
   "metadata": {},
   "source": [
    "Shape of the data"
   ]
  },
  {
   "cell_type": "code",
   "execution_count": 4,
   "metadata": {},
   "outputs": [
    {
     "data": {
      "text/plain": [
       "(85895, 32)"
      ]
     },
     "execution_count": 4,
     "metadata": {},
     "output_type": "execute_result"
    }
   ],
   "source": [
    "df.shape"
   ]
  },
  {
   "cell_type": "markdown",
   "metadata": {},
   "source": [
    "(85895, 32)"
   ]
  },
  {
   "cell_type": "code",
   "execution_count": 18,
   "metadata": {},
   "outputs": [
    {
     "name": "stdout",
     "output_type": "stream",
     "text": [
      "<class 'pandas.core.frame.DataFrame'>\n",
      "RangeIndex: 85895 entries, 0 to 85894\n",
      "Data columns (total 26 columns):\n",
      " #   Column                             Non-Null Count  Dtype  \n",
      "---  ------                             --------------  -----  \n",
      " 0   site_number                        85895 non-null  int64  \n",
      " 1   legal_name                         85895 non-null  object \n",
      " 2   doing_business_as_name             85894 non-null  object \n",
      " 3   city                               85895 non-null  object \n",
      " 4   state                              85895 non-null  object \n",
      " 5   zip_code                           85864 non-null  object \n",
      " 6   ward                               36194 non-null  float64\n",
      " 7   precinct                           29194 non-null  float64\n",
      " 8   ward_precinct                      36195 non-null  object \n",
      " 9   police_district                    31883 non-null  float64\n",
      " 10  license_code                       85895 non-null  int64  \n",
      " 11  license_description                85895 non-null  object \n",
      " 12  license_number                     85894 non-null  float64\n",
      " 13  application_type                   85895 non-null  object \n",
      " 14  application_requirements_complete  85681 non-null  object \n",
      " 15  payment_date                       84606 non-null  object \n",
      " 16  conditional_approval               85895 non-null  object \n",
      " 17  license_term_start_date            85667 non-null  object \n",
      " 18  license_term_expiration_date       85877 non-null  object \n",
      " 19  license_approved_for_issuance      79106 non-null  object \n",
      " 20  date_issued                        85895 non-null  object \n",
      " 21  license_status_change_date         30495 non-null  object \n",
      " 22  latitude                           38649 non-null  float64\n",
      " 23  longitude                          38649 non-null  float64\n",
      " 24  license_status                     85895 non-null  object \n",
      " 25  license_status_change              85895 non-null  int64  \n",
      "dtypes: float64(6), int64(3), object(17)\n",
      "memory usage: 17.0+ MB\n"
     ]
    }
   ],
   "source": [
    "df.info()"
   ]
  },
  {
   "cell_type": "code",
   "execution_count": 8,
   "metadata": {},
   "outputs": [
    {
     "data": {
      "text/plain": [
       "Index(['ID', 'LICENSE ID', 'ACCOUNT NUMBER', 'SITE NUMBER', 'LEGAL NAME',\n",
       "       'DOING BUSINESS AS NAME', 'ADDRESS', 'CITY', 'STATE', 'ZIP CODE',\n",
       "       'WARD', 'PRECINCT', 'WARD PRECINCT', 'POLICE DISTRICT', 'LICENSE CODE',\n",
       "       'LICENSE DESCRIPTION', 'LICENSE NUMBER', 'APPLICATION TYPE',\n",
       "       'APPLICATION CREATED DATE', 'APPLICATION REQUIREMENTS COMPLETE',\n",
       "       'PAYMENT DATE', 'CONDITIONAL APPROVAL', 'LICENSE TERM START DATE',\n",
       "       'LICENSE TERM EXPIRATION DATE', 'LICENSE APPROVED FOR ISSUANCE',\n",
       "       'DATE ISSUED', 'LICENSE STATUS CHANGE DATE', 'SSA', 'LATITUDE',\n",
       "       'LONGITUDE', 'LOCATION', 'LICENSE STATUS'],\n",
       "      dtype='object')"
      ]
     },
     "execution_count": 8,
     "metadata": {},
     "output_type": "execute_result"
    }
   ],
   "source": [
    "df.columns"
   ]
  },
  {
   "cell_type": "markdown",
   "metadata": {},
   "source": [
    "Change the columns names by replacing \" \" with _"
   ]
  },
  {
   "cell_type": "code",
   "execution_count": 9,
   "metadata": {},
   "outputs": [
    {
     "data": {
      "text/plain": [
       "Index(['id', 'license_id', 'account_number', 'site_number', 'legal_name',\n",
       "       'doing_business_as_name', 'address', 'city', 'state', 'zip_code',\n",
       "       'ward', 'precinct', 'ward_precinct', 'police_district', 'license_code',\n",
       "       'license_description', 'license_number', 'application_type',\n",
       "       'application_created_date', 'application_requirements_complete',\n",
       "       'payment_date', 'conditional_approval', 'license_term_start_date',\n",
       "       'license_term_expiration_date', 'license_approved_for_issuance',\n",
       "       'date_issued', 'license_status_change_date', 'ssa', 'latitude',\n",
       "       'longitude', 'location', 'license_status'],\n",
       "      dtype='object')"
      ]
     },
     "execution_count": 9,
     "metadata": {},
     "output_type": "execute_result"
    }
   ],
   "source": [
    "df.columns = [col.replace(\" \", \"_\").lower() for col in df.columns]\n",
    "df.columns"
   ]
  },
  {
   "cell_type": "markdown",
   "metadata": {},
   "source": [
    "Check: Missing values"
   ]
  },
  {
   "cell_type": "code",
   "execution_count": 10,
   "metadata": {},
   "outputs": [
    {
     "data": {
      "text/plain": [
       "id                                       0\n",
       "license_id                               0\n",
       "account_number                           0\n",
       "site_number                              0\n",
       "legal_name                               0\n",
       "doing_business_as_name                   1\n",
       "address                                  0\n",
       "city                                     0\n",
       "state                                    0\n",
       "zip_code                                31\n",
       "ward                                 49701\n",
       "precinct                             56701\n",
       "ward_precinct                        49700\n",
       "police_district                      54012\n",
       "license_code                             0\n",
       "license_description                      0\n",
       "license_number                           1\n",
       "application_type                         0\n",
       "application_created_date             64660\n",
       "application_requirements_complete      214\n",
       "payment_date                          1289\n",
       "conditional_approval                     0\n",
       "license_term_start_date                228\n",
       "license_term_expiration_date            18\n",
       "license_approved_for_issuance         6789\n",
       "date_issued                              0\n",
       "license_status_change_date           55400\n",
       "ssa                                  76446\n",
       "latitude                             47246\n",
       "longitude                            47246\n",
       "location                             47246\n",
       "license_status                           0\n",
       "dtype: int64"
      ]
     },
     "execution_count": 10,
     "metadata": {},
     "output_type": "execute_result"
    }
   ],
   "source": [
    "df.isnull().sum()"
   ]
  },
  {
   "cell_type": "markdown",
   "metadata": {},
   "source": [
    "Yes"
   ]
  },
  {
   "cell_type": "markdown",
   "metadata": {},
   "source": [
    "Drop irrelevant features"
   ]
  },
  {
   "cell_type": "code",
   "execution_count": 11,
   "metadata": {},
   "outputs": [],
   "source": [
    "drop_col_list = [\n",
    "    'id',\n",
    "    'license_id',\n",
    "    'ssa',\n",
    "    'location',\n",
    "    'application_created_date',\n",
    "    'account_number',\n",
    "    'address'\n",
    "]\n",
    "\n",
    "df.drop(drop_col_list, axis=1, inplace=True)"
   ]
  },
  {
   "cell_type": "markdown",
   "metadata": {},
   "source": [
    "Data transformation"
   ]
  },
  {
   "cell_type": "markdown",
   "metadata": {},
   "source": [
    "Update license status change date feature"
   ]
  },
  {
   "cell_type": "code",
   "execution_count": 15,
   "metadata": {},
   "outputs": [
    {
     "data": {
      "text/plain": [
       "0    1\n",
       "1    0\n",
       "2    1\n",
       "3    1\n",
       "4    1\n",
       "Name: license_status_change, dtype: int64"
      ]
     },
     "execution_count": 15,
     "metadata": {},
     "output_type": "execute_result"
    }
   ],
   "source": [
    "df[\"license_status_change\"] = np.where(df.license_status_change_date.isnull(), 1, 0)\n",
    "df[\"license_status_change\"].head()"
   ]
  },
  {
   "cell_type": "code",
   "execution_count": 16,
   "metadata": {},
   "outputs": [
    {
     "data": {
      "text/html": [
       "<div>\n",
       "<style scoped>\n",
       "    .dataframe tbody tr th:only-of-type {\n",
       "        vertical-align: middle;\n",
       "    }\n",
       "\n",
       "    .dataframe tbody tr th {\n",
       "        vertical-align: top;\n",
       "    }\n",
       "\n",
       "    .dataframe thead th {\n",
       "        text-align: right;\n",
       "    }\n",
       "</style>\n",
       "<table border=\"1\" class=\"dataframe\">\n",
       "  <thead>\n",
       "    <tr style=\"text-align: right;\">\n",
       "      <th>license_status</th>\n",
       "      <th>AAC</th>\n",
       "      <th>AAI</th>\n",
       "      <th>INQ</th>\n",
       "      <th>REA</th>\n",
       "      <th>REV</th>\n",
       "    </tr>\n",
       "    <tr>\n",
       "      <th>license_status_change</th>\n",
       "      <th></th>\n",
       "      <th></th>\n",
       "      <th></th>\n",
       "      <th></th>\n",
       "      <th></th>\n",
       "    </tr>\n",
       "  </thead>\n",
       "  <tbody>\n",
       "    <tr>\n",
       "      <th>0</th>\n",
       "      <td>30200</td>\n",
       "      <td>0</td>\n",
       "      <td>2</td>\n",
       "      <td>3</td>\n",
       "      <td>290</td>\n",
       "    </tr>\n",
       "    <tr>\n",
       "      <th>1</th>\n",
       "      <td>0</td>\n",
       "      <td>55400</td>\n",
       "      <td>0</td>\n",
       "      <td>0</td>\n",
       "      <td>0</td>\n",
       "    </tr>\n",
       "  </tbody>\n",
       "</table>\n",
       "</div>"
      ],
      "text/plain": [
       "license_status           AAC    AAI  INQ  REA  REV\n",
       "license_status_change                             \n",
       "0                      30200      0    2    3  290\n",
       "1                          0  55400    0    0    0"
      ]
     },
     "execution_count": 16,
     "metadata": {},
     "output_type": "execute_result"
    }
   ],
   "source": [
    "pd.crosstab(df.license_status_change, df.license_status)"
   ]
  },
  {
   "cell_type": "markdown",
   "metadata": {},
   "source": [
    "Convert String object into date"
   ]
  },
  {
   "cell_type": "code",
   "execution_count": 19,
   "metadata": {},
   "outputs": [],
   "source": [
    "df.application_requirements_complete = pd.DatetimeIndex(df.application_requirements_complete)\n",
    "df.payment_date = pd.DatetimeIndex(df.payment_date)\n",
    "df.license_term_start_date = pd.DatetimeIndex(df.license_term_start_date)\n",
    "df.license_term_expiration_date = pd.DatetimeIndex(df.license_term_expiration_date)\n",
    "df.license_approved_for_issuance = pd.DatetimeIndex(df.license_approved_for_issuance)\n",
    "df.date_issued = pd.DatetimeIndex(df.date_issued)"
   ]
  },
  {
   "cell_type": "code",
   "execution_count": 24,
   "metadata": {},
   "outputs": [],
   "source": [
    "df.license_status_change_date = pd.DatetimeIndex(df.license_status_change_date)"
   ]
  },
  {
   "cell_type": "code",
   "execution_count": 28,
   "metadata": {},
   "outputs": [
    {
     "name": "stdout",
     "output_type": "stream",
     "text": [
      "<class 'pandas.core.frame.DataFrame'>\n",
      "RangeIndex: 85895 entries, 0 to 85894\n",
      "Data columns (total 26 columns):\n",
      " #   Column                             Non-Null Count  Dtype         \n",
      "---  ------                             --------------  -----         \n",
      " 0   site_number                        85895 non-null  int64         \n",
      " 1   legal_name                         85895 non-null  object        \n",
      " 2   doing_business_as_name             85894 non-null  object        \n",
      " 3   city                               85895 non-null  object        \n",
      " 4   state                              85895 non-null  object        \n",
      " 5   zip_code                           85864 non-null  object        \n",
      " 6   ward                               36194 non-null  float64       \n",
      " 7   precinct                           29194 non-null  float64       \n",
      " 8   ward_precinct                      36195 non-null  object        \n",
      " 9   police_district                    31883 non-null  float64       \n",
      " 10  license_code                       85895 non-null  int64         \n",
      " 11  license_description                85895 non-null  object        \n",
      " 12  license_number                     85894 non-null  float64       \n",
      " 13  application_type                   85895 non-null  object        \n",
      " 14  application_requirements_complete  85681 non-null  datetime64[ns]\n",
      " 15  payment_date                       84606 non-null  datetime64[ns]\n",
      " 16  conditional_approval               85895 non-null  object        \n",
      " 17  license_term_start_date            85667 non-null  datetime64[ns]\n",
      " 18  license_term_expiration_date       85877 non-null  datetime64[ns]\n",
      " 19  license_approved_for_issuance      79106 non-null  datetime64[ns]\n",
      " 20  date_issued                        85895 non-null  datetime64[ns]\n",
      " 21  license_status_change_date         30495 non-null  datetime64[ns]\n",
      " 22  latitude                           38649 non-null  float64       \n",
      " 23  longitude                          38649 non-null  float64       \n",
      " 24  license_status                     85895 non-null  object        \n",
      " 25  license_status_change              85895 non-null  int64         \n",
      "dtypes: datetime64[ns](7), float64(6), int64(3), object(10)\n",
      "memory usage: 17.0+ MB\n"
     ]
    }
   ],
   "source": [
    "df.info()"
   ]
  },
  {
   "cell_type": "markdown",
   "metadata": {},
   "source": [
    "# Feature selection"
   ]
  },
  {
   "cell_type": "code",
   "execution_count": 29,
   "metadata": {},
   "outputs": [],
   "source": [
    "df[\"completion_to_start\"] = (df.license_term_start_date - df.application_requirements_complete).dt.days\n",
    "df[\"start_to_expiry\"] = (df.license_term_expiration_date - df.license_term_start_date).dt.days\n",
    "df[\"approval_to_issuance\"] = (df.date_issued - df.license_approved_for_issuance).dt.days\n",
    "df[\"completion_to_payment\"] = (df.payment_date - df.application_requirements_complete).dt.days"
   ]
  },
  {
   "cell_type": "code",
   "execution_count": 30,
   "metadata": {},
   "outputs": [],
   "source": [
    "df[\"presence_of_enquiry_details\"] = np.where(df.ward.isnull() | df.ward_precinct.isnull() | df.police_district | df.precinct, 0, 1)\n",
    "df[\"target\"] = df[['license_status']].apply(lambda col:pd.Categorical(col).codes)"
   ]
  },
  {
   "cell_type": "code",
   "execution_count": 33,
   "metadata": {},
   "outputs": [
    {
     "data": {
      "text/plain": [
       "1223"
      ]
     },
     "execution_count": 33,
     "metadata": {},
     "output_type": "execute_result"
    }
   ],
   "source": [
    "len(df.city.unique())"
   ]
  },
  {
   "cell_type": "code",
   "execution_count": 34,
   "metadata": {},
   "outputs": [
    {
     "data": {
      "text/plain": [
       "Index(['target_1', 'target_2', 'target_3', 'target_4', 'target_5'], dtype='object')"
      ]
     },
     "execution_count": 34,
     "metadata": {},
     "output_type": "execute_result"
    }
   ],
   "source": [
    "enc = cat_enc.OneHotEncoder().fit(df.target.astype(str))\n",
    "y_onehot = enc.transform(df.target.astype(str))\n",
    "y_onehot.columns"
   ]
  },
  {
   "cell_type": "code",
   "execution_count": 35,
   "metadata": {},
   "outputs": [],
   "source": [
    "class_names = y_onehot.columns\n",
    "for class_ in class_names:\n",
    "    enc = cat_enc.TargetEncoder(smoothing=0)\n",
    "    temp = enc.fit_transform(df[['license_description', 'state', 'city']], y_onehot[class_])\n",
    "    temp.columns = [str(x) + '_' + str(class_) for x in temp.columns]\n",
    "    df = pd.concat([df, temp], axis=1)"
   ]
  },
  {
   "cell_type": "code",
   "execution_count": 37,
   "metadata": {},
   "outputs": [
    {
     "data": {
      "text/plain": [
       "license_status\n",
       "AAI    55400\n",
       "AAC    30200\n",
       "REV      290\n",
       "REA        3\n",
       "INQ        2\n",
       "Name: count, dtype: int64"
      ]
     },
     "execution_count": 37,
     "metadata": {},
     "output_type": "execute_result"
    }
   ],
   "source": [
    "df.license_status.value_counts()"
   ]
  },
  {
   "cell_type": "code",
   "execution_count": 38,
   "metadata": {},
   "outputs": [
    {
     "data": {
      "text/plain": [
       "license_status\n",
       "AAI    64.497%\n",
       "AAC    35.159%\n",
       "REV     0.338%\n",
       "REA     0.003%\n",
       "INQ     0.002%\n",
       "Name: proportion, dtype: object"
      ]
     },
     "execution_count": 38,
     "metadata": {},
     "output_type": "execute_result"
    }
   ],
   "source": [
    "df.license_status.value_counts(normalize=True).mul(100).round(3).astype(str) + \"%\""
   ]
  },
  {
   "cell_type": "markdown",
   "metadata": {},
   "source": [
    "Oversampling / Undersampling"
   ]
  },
  {
   "cell_type": "code",
   "execution_count": 39,
   "metadata": {},
   "outputs": [
    {
     "data": {
      "text/plain": [
       "[0, 1, 2, 3, 4]"
      ]
     },
     "execution_count": 39,
     "metadata": {},
     "output_type": "execute_result"
    }
   ],
   "source": [
    "np.sort(df.target.unique()).tolist()"
   ]
  },
  {
   "cell_type": "code",
   "execution_count": 40,
   "metadata": {},
   "outputs": [
    {
     "data": {
      "text/plain": [
       "target\n",
       "1    16620\n",
       "0     9060\n",
       "4      580\n",
       "2      400\n",
       "3      300\n",
       "Name: count, dtype: int64"
      ]
     },
     "execution_count": 40,
     "metadata": {},
     "output_type": "execute_result"
    }
   ],
   "source": [
    "# undersampling\n",
    "df_0 = df[df.target == 0].sample(frac=0.3, replace=False)\n",
    "df_1 = df[df.target == 1].sample(frac=0.3, replace=False)\n",
    "\n",
    "# oversampling\n",
    "df_2 = df[df.target == 2].sample(frac=200, replace=True)\n",
    "df_3 = df[df.target == 3].sample(frac=100, replace=True)\n",
    "df_4 = df[df.target == 4].sample(frac=2, replace=True)\n",
    "\n",
    "sampled_df = pd.concat([df_0, df_1, df_2, df_3, df_4])\n",
    "sampled_df.target.value_counts()"
   ]
  },
  {
   "cell_type": "markdown",
   "metadata": {},
   "source": [
    "# Model building"
   ]
  },
  {
   "cell_type": "code",
   "execution_count": 42,
   "metadata": {},
   "outputs": [],
   "source": [
    "X = sampled_df[['latitude', 'longitude',\n",
    "       'completion_to_start',\n",
    "       'start_to_expiry', 'approval_to_issuance', 'completion_to_payment',\n",
    "       'presence_of_enquiry_details',  'license_description_target_1',\n",
    "       'state_target_1', 'city_target_1', 'license_description_target_2',\n",
    "       'state_target_2', 'city_target_2', 'license_description_target_3',\n",
    "       'state_target_3', 'city_target_3', 'license_description_target_4',\n",
    "       'state_target_4', 'city_target_4', 'license_description_target_5',\n",
    "       'state_target_5', 'city_target_5']]\n",
    "\n",
    "y = sampled_df['target']"
   ]
  },
  {
   "cell_type": "markdown",
   "metadata": {},
   "source": [
    "Mean imputation of X"
   ]
  },
  {
   "cell_type": "code",
   "execution_count": 43,
   "metadata": {},
   "outputs": [],
   "source": [
    "X = X.fillna(X.mean())"
   ]
  },
  {
   "cell_type": "markdown",
   "metadata": {},
   "source": [
    "Train/test preparation"
   ]
  },
  {
   "cell_type": "code",
   "execution_count": 45,
   "metadata": {},
   "outputs": [],
   "source": [
    "X_train, X_test, y_train, y_test = train_test_split(X, y, test_size=0.1)"
   ]
  },
  {
   "cell_type": "markdown",
   "metadata": {},
   "source": [
    "KNN"
   ]
  },
  {
   "cell_type": "code",
   "execution_count": 47,
   "metadata": {},
   "outputs": [
    {
     "data": {
      "text/html": [
       "<style>#sk-container-id-1 {color: black;}#sk-container-id-1 pre{padding: 0;}#sk-container-id-1 div.sk-toggleable {background-color: white;}#sk-container-id-1 label.sk-toggleable__label {cursor: pointer;display: block;width: 100%;margin-bottom: 0;padding: 0.3em;box-sizing: border-box;text-align: center;}#sk-container-id-1 label.sk-toggleable__label-arrow:before {content: \"▸\";float: left;margin-right: 0.25em;color: #696969;}#sk-container-id-1 label.sk-toggleable__label-arrow:hover:before {color: black;}#sk-container-id-1 div.sk-estimator:hover label.sk-toggleable__label-arrow:before {color: black;}#sk-container-id-1 div.sk-toggleable__content {max-height: 0;max-width: 0;overflow: hidden;text-align: left;background-color: #f0f8ff;}#sk-container-id-1 div.sk-toggleable__content pre {margin: 0.2em;color: black;border-radius: 0.25em;background-color: #f0f8ff;}#sk-container-id-1 input.sk-toggleable__control:checked~div.sk-toggleable__content {max-height: 200px;max-width: 100%;overflow: auto;}#sk-container-id-1 input.sk-toggleable__control:checked~label.sk-toggleable__label-arrow:before {content: \"▾\";}#sk-container-id-1 div.sk-estimator input.sk-toggleable__control:checked~label.sk-toggleable__label {background-color: #d4ebff;}#sk-container-id-1 div.sk-label input.sk-toggleable__control:checked~label.sk-toggleable__label {background-color: #d4ebff;}#sk-container-id-1 input.sk-hidden--visually {border: 0;clip: rect(1px 1px 1px 1px);clip: rect(1px, 1px, 1px, 1px);height: 1px;margin: -1px;overflow: hidden;padding: 0;position: absolute;width: 1px;}#sk-container-id-1 div.sk-estimator {font-family: monospace;background-color: #f0f8ff;border: 1px dotted black;border-radius: 0.25em;box-sizing: border-box;margin-bottom: 0.5em;}#sk-container-id-1 div.sk-estimator:hover {background-color: #d4ebff;}#sk-container-id-1 div.sk-parallel-item::after {content: \"\";width: 100%;border-bottom: 1px solid gray;flex-grow: 1;}#sk-container-id-1 div.sk-label:hover label.sk-toggleable__label {background-color: #d4ebff;}#sk-container-id-1 div.sk-serial::before {content: \"\";position: absolute;border-left: 1px solid gray;box-sizing: border-box;top: 0;bottom: 0;left: 50%;z-index: 0;}#sk-container-id-1 div.sk-serial {display: flex;flex-direction: column;align-items: center;background-color: white;padding-right: 0.2em;padding-left: 0.2em;position: relative;}#sk-container-id-1 div.sk-item {position: relative;z-index: 1;}#sk-container-id-1 div.sk-parallel {display: flex;align-items: stretch;justify-content: center;background-color: white;position: relative;}#sk-container-id-1 div.sk-item::before, #sk-container-id-1 div.sk-parallel-item::before {content: \"\";position: absolute;border-left: 1px solid gray;box-sizing: border-box;top: 0;bottom: 0;left: 50%;z-index: -1;}#sk-container-id-1 div.sk-parallel-item {display: flex;flex-direction: column;z-index: 1;position: relative;background-color: white;}#sk-container-id-1 div.sk-parallel-item:first-child::after {align-self: flex-end;width: 50%;}#sk-container-id-1 div.sk-parallel-item:last-child::after {align-self: flex-start;width: 50%;}#sk-container-id-1 div.sk-parallel-item:only-child::after {width: 0;}#sk-container-id-1 div.sk-dashed-wrapped {border: 1px dashed gray;margin: 0 0.4em 0.5em 0.4em;box-sizing: border-box;padding-bottom: 0.4em;background-color: white;}#sk-container-id-1 div.sk-label label {font-family: monospace;font-weight: bold;display: inline-block;line-height: 1.2em;}#sk-container-id-1 div.sk-label-container {text-align: center;}#sk-container-id-1 div.sk-container {/* jupyter's `normalize.less` sets `[hidden] { display: none; }` but bootstrap.min.css set `[hidden] { display: none !important; }` so we also need the `!important` here to be able to override the default hidden behavior on the sphinx rendered scikit-learn.org. See: https://github.com/scikit-learn/scikit-learn/issues/21755 */display: inline-block !important;position: relative;}#sk-container-id-1 div.sk-text-repr-fallback {display: none;}</style><div id=\"sk-container-id-1\" class=\"sk-top-container\"><div class=\"sk-text-repr-fallback\"><pre>KNeighborsClassifier(n_neighbors=3)</pre><b>In a Jupyter environment, please rerun this cell to show the HTML representation or trust the notebook. <br />On GitHub, the HTML representation is unable to render, please try loading this page with nbviewer.org.</b></div><div class=\"sk-container\" hidden><div class=\"sk-item\"><div class=\"sk-estimator sk-toggleable\"><input class=\"sk-toggleable__control sk-hidden--visually\" id=\"sk-estimator-id-1\" type=\"checkbox\" checked><label for=\"sk-estimator-id-1\" class=\"sk-toggleable__label sk-toggleable__label-arrow\">KNeighborsClassifier</label><div class=\"sk-toggleable__content\"><pre>KNeighborsClassifier(n_neighbors=3)</pre></div></div></div></div></div>"
      ],
      "text/plain": [
       "KNeighborsClassifier(n_neighbors=3)"
      ]
     },
     "execution_count": 47,
     "metadata": {},
     "output_type": "execute_result"
    }
   ],
   "source": [
    "knn = KNeighborsClassifier(n_neighbors=3)\n",
    "knn"
   ]
  },
  {
   "cell_type": "markdown",
   "metadata": {},
   "source": [
    "Scaling"
   ]
  },
  {
   "cell_type": "code",
   "execution_count": 48,
   "metadata": {},
   "outputs": [],
   "source": [
    "scaler = MinMaxScaler()\n",
    "scaler.fit(X_train)\n",
    "knn.fit((scaler.transform(X_train)), y_train)\n",
    "scaler.fit(X_test)\n",
    "y_pred = knn.predict(scaler.transform(X_test))"
   ]
  },
  {
   "cell_type": "markdown",
   "metadata": {},
   "source": [
    "Metrics Performance"
   ]
  },
  {
   "cell_type": "code",
   "execution_count": 49,
   "metadata": {},
   "outputs": [
    {
     "name": "stdout",
     "output_type": "stream",
     "text": [
      "              precision    recall  f1-score   support\n",
      "\n",
      "           0       0.79      0.69      0.74       918\n",
      "           1       0.83      0.92      0.87      1653\n",
      "           2       0.00      0.00      0.00        47\n",
      "           3       1.00      0.64      0.78        25\n",
      "           4       0.61      0.51      0.56        53\n",
      "\n",
      "    accuracy                           0.82      2696\n",
      "   macro avg       0.65      0.55      0.59      2696\n",
      "weighted avg       0.80      0.82      0.81      2696\n",
      "\n"
     ]
    },
    {
     "name": "stderr",
     "output_type": "stream",
     "text": [
      "/Users/saili/Library/CloudStorage/OneDrive-GeorgeMasonUniversity-O365Production/Bag/projects/ml/.env/lib/python3.9/site-packages/sklearn/metrics/_classification.py:1469: UndefinedMetricWarning: Precision and F-score are ill-defined and being set to 0.0 in labels with no predicted samples. Use `zero_division` parameter to control this behavior.\n",
      "  _warn_prf(average, modifier, msg_start, len(result))\n",
      "/Users/saili/Library/CloudStorage/OneDrive-GeorgeMasonUniversity-O365Production/Bag/projects/ml/.env/lib/python3.9/site-packages/sklearn/metrics/_classification.py:1469: UndefinedMetricWarning: Precision and F-score are ill-defined and being set to 0.0 in labels with no predicted samples. Use `zero_division` parameter to control this behavior.\n",
      "  _warn_prf(average, modifier, msg_start, len(result))\n",
      "/Users/saili/Library/CloudStorage/OneDrive-GeorgeMasonUniversity-O365Production/Bag/projects/ml/.env/lib/python3.9/site-packages/sklearn/metrics/_classification.py:1469: UndefinedMetricWarning: Precision and F-score are ill-defined and being set to 0.0 in labels with no predicted samples. Use `zero_division` parameter to control this behavior.\n",
      "  _warn_prf(average, modifier, msg_start, len(result))\n"
     ]
    }
   ],
   "source": [
    "print(classification_report(y_test, y_pred))"
   ]
  },
  {
   "cell_type": "markdown",
   "metadata": {},
   "source": [
    "Logistic Regression"
   ]
  },
  {
   "cell_type": "code",
   "execution_count": 53,
   "metadata": {},
   "outputs": [
    {
     "name": "stderr",
     "output_type": "stream",
     "text": [
      "/Users/saili/Library/CloudStorage/OneDrive-GeorgeMasonUniversity-O365Production/Bag/projects/ml/.env/lib/python3.9/site-packages/sklearn/linear_model/_logistic.py:460: ConvergenceWarning: lbfgs failed to converge (status=1):\n",
      "STOP: TOTAL NO. of ITERATIONS REACHED LIMIT.\n",
      "\n",
      "Increase the number of iterations (max_iter) or scale the data as shown in:\n",
      "    https://scikit-learn.org/stable/modules/preprocessing.html\n",
      "Please also refer to the documentation for alternative solver options:\n",
      "    https://scikit-learn.org/stable/modules/linear_model.html#logistic-regression\n",
      "  n_iter_i = _check_optimize_result(\n"
     ]
    }
   ],
   "source": [
    "logistic = LogisticRegression()\n",
    "logistic.fit(X_train, y_train)\n",
    "y_pred = logistic.predict(X_test)"
   ]
  },
  {
   "cell_type": "markdown",
   "metadata": {},
   "source": [
    "Metrics performance"
   ]
  },
  {
   "cell_type": "code",
   "execution_count": 54,
   "metadata": {},
   "outputs": [
    {
     "name": "stdout",
     "output_type": "stream",
     "text": [
      "              precision    recall  f1-score   support\n",
      "\n",
      "           0       0.58      0.31      0.40       918\n",
      "           1       0.68      0.90      0.77      1653\n",
      "           2       0.00      0.00      0.00        47\n",
      "           3       0.00      0.00      0.00        25\n",
      "           4       1.00      0.02      0.04        53\n",
      "\n",
      "    accuracy                           0.66      2696\n",
      "   macro avg       0.45      0.25      0.24      2696\n",
      "weighted avg       0.63      0.66      0.61      2696\n",
      "\n"
     ]
    }
   ],
   "source": [
    "print(classification_report(y_test, y_pred))"
   ]
  },
  {
   "cell_type": "code",
   "execution_count": 55,
   "metadata": {},
   "outputs": [
    {
     "name": "stdout",
     "output_type": "stream",
     "text": [
      "[[ 283  635    0    0    0]\n",
      " [ 158 1493    1    1    0]\n",
      " [   0   47    0    0    0]\n",
      " [  19    6    0    0    0]\n",
      " [  26   26    0    0    1]]\n"
     ]
    }
   ],
   "source": [
    "print(confusion_matrix(y_test, y_pred))"
   ]
  },
  {
   "cell_type": "markdown",
   "metadata": {},
   "source": [
    "Naive Bayes"
   ]
  },
  {
   "cell_type": "code",
   "execution_count": 57,
   "metadata": {},
   "outputs": [],
   "source": [
    "naive_bayes = GaussianNB()\n",
    "y_pred = naive_bayes.fit(X_train, y_train).predict(X_test)"
   ]
  },
  {
   "cell_type": "markdown",
   "metadata": {},
   "source": [
    "Metrics performance"
   ]
  },
  {
   "cell_type": "code",
   "execution_count": 58,
   "metadata": {},
   "outputs": [
    {
     "name": "stdout",
     "output_type": "stream",
     "text": [
      "              precision    recall  f1-score   support\n",
      "\n",
      "           0       0.65      0.50      0.56       918\n",
      "           1       0.91      0.84      0.87      1653\n",
      "           2       1.00      1.00      1.00        47\n",
      "           3       0.23      1.00      0.37        25\n",
      "           4       0.11      0.66      0.19        53\n",
      "\n",
      "    accuracy                           0.72      2696\n",
      "   macro avg       0.58      0.80      0.60      2696\n",
      "weighted avg       0.80      0.72      0.75      2696\n",
      "\n"
     ]
    }
   ],
   "source": [
    "print(classification_report(y_test, y_pred))"
   ]
  },
  {
   "cell_type": "code",
   "execution_count": 59,
   "metadata": {},
   "outputs": [
    {
     "name": "stdout",
     "output_type": "stream",
     "text": [
      "[[ 457  139    0   74  248]\n",
      " [ 239 1382    0    6   26]\n",
      " [   0    0   47    0    0]\n",
      " [   0    0    0   25    0]\n",
      " [  12    0    0    6   35]]\n"
     ]
    }
   ],
   "source": [
    "print(confusion_matrix(y_test, y_pred))"
   ]
  },
  {
   "cell_type": "markdown",
   "metadata": {},
   "source": [
    "Decision Tree"
   ]
  },
  {
   "cell_type": "code",
   "execution_count": 61,
   "metadata": {},
   "outputs": [],
   "source": [
    "dtree = DecisionTreeClassifier(random_state=0)\n",
    "y_pred = dtree.fit(X_train, y_train).predict(X_test)"
   ]
  },
  {
   "cell_type": "markdown",
   "metadata": {},
   "source": [
    "Metrics Performance"
   ]
  },
  {
   "cell_type": "code",
   "execution_count": 62,
   "metadata": {},
   "outputs": [
    {
     "name": "stdout",
     "output_type": "stream",
     "text": [
      "              precision    recall  f1-score   support\n",
      "\n",
      "           0       0.79      0.78      0.79       918\n",
      "           1       0.89      0.89      0.89      1653\n",
      "           2       1.00      1.00      1.00        47\n",
      "           3       1.00      1.00      1.00        25\n",
      "           4       0.67      0.92      0.78        53\n",
      "\n",
      "    accuracy                           0.85      2696\n",
      "   macro avg       0.87      0.92      0.89      2696\n",
      "weighted avg       0.85      0.85      0.85      2696\n",
      "\n"
     ]
    }
   ],
   "source": [
    "print(classification_report(y_test, y_pred))"
   ]
  },
  {
   "cell_type": "code",
   "execution_count": 63,
   "metadata": {},
   "outputs": [
    {
     "name": "stdout",
     "output_type": "stream",
     "text": [
      "[[ 716  181    0    0   21]\n",
      " [ 186 1464    0    0    3]\n",
      " [   0    0   47    0    0]\n",
      " [   0    0    0   25    0]\n",
      " [   4    0    0    0   49]]\n"
     ]
    }
   ],
   "source": [
    "print(confusion_matrix(y_test, y_pred))"
   ]
  },
  {
   "cell_type": "markdown",
   "metadata": {},
   "source": [
    "# Model Evaluation"
   ]
  },
  {
   "cell_type": "markdown",
   "metadata": {},
   "source": [
    "Feature importance"
   ]
  },
  {
   "cell_type": "code",
   "execution_count": 82,
   "metadata": {},
   "outputs": [],
   "source": [
    "def feature_imp(model_feature_imp):\n",
    "    \"\"\"This function plots feature importance based on the model\n",
    "    \"\"\"\n",
    "    import pandas as pd\n",
    "    import seaborn as sns\n",
    "    fimp = pd.DataFrame([X_train.columns, model_feature_imp])\n",
    "    fimp = fimp.T.sort_values(by=1, ascending=False)[1:10]\n",
    "\n",
    "    # plot\n",
    "    sns.barplot(x=fimp[1], y=fimp[0])\n",
    "    plt.xlabel(\"Feature Importance score\")\n",
    "    plt.ylabel(\"Features\")\n",
    "    plt.title(\"Visualizing Important features\")\n",
    "    plt.legend()\n",
    "    plt.show()\n",
    "\n",
    "    return"
   ]
  },
  {
   "cell_type": "code",
   "execution_count": 83,
   "metadata": {},
   "outputs": [
    {
     "name": "stderr",
     "output_type": "stream",
     "text": [
      "No artists with labels found to put in legend.  Note that artists whose label start with an underscore are ignored when legend() is called with no argument.\n"
     ]
    },
    {
     "data": {
      "image/png": "[encoded data removed]",
      "text/plain": [
       "<Figure size 640x480 with 1 Axes>"
      ]
     },
     "metadata": {},
     "output_type": "display_data"
    }
   ],
   "source": [
    "feature_imp(dtree.feature_importances_)"
   ]
  },
  {
   "cell_type": "markdown",
   "metadata": {},
   "source": [
    "Random Forest"
   ]
  },
  {
   "cell_type": "code",
   "execution_count": 85,
   "metadata": {},
   "outputs": [],
   "source": [
    "rf = RandomForestClassifier(random_state=1)\n",
    "y_pred = rf.fit(X_train, y_train).predict(X_test)"
   ]
  },
  {
   "cell_type": "markdown",
   "metadata": {},
   "source": [
    "Metrics Performance"
   ]
  },
  {
   "cell_type": "code",
   "execution_count": 86,
   "metadata": {},
   "outputs": [
    {
     "name": "stdout",
     "output_type": "stream",
     "text": [
      "              precision    recall  f1-score   support\n",
      "\n",
      "           0       0.83      0.84      0.84       918\n",
      "           1       0.92      0.91      0.91      1653\n",
      "           2       1.00      1.00      1.00        47\n",
      "           3       0.96      1.00      0.98        25\n",
      "           4       0.83      0.91      0.86        53\n",
      "\n",
      "    accuracy                           0.89      2696\n",
      "   macro avg       0.91      0.93      0.92      2696\n",
      "weighted avg       0.89      0.89      0.89      2696\n",
      "\n"
     ]
    }
   ],
   "source": [
    "print(classification_report(y_test, y_pred))"
   ]
  },
  {
   "cell_type": "code",
   "execution_count": 87,
   "metadata": {},
   "outputs": [
    {
     "name": "stderr",
     "output_type": "stream",
     "text": [
      "No artists with labels found to put in legend.  Note that artists whose label start with an underscore are ignored when legend() is called with no argument.\n"
     ]
    },
    {
     "data": {
      "image/png": "[encoded data removed]",
      "text/plain": [
       "<Figure size 640x480 with 1 Axes>"
      ]
     },
     "metadata": {},
     "output_type": "display_data"
    }
   ],
   "source": [
    "feature_imp(rf.feature_importances_)"
   ]
  },
  {
   "cell_type": "markdown",
   "metadata": {},
   "source": [
    "AdaBoost"
   ]
  },
  {
   "cell_type": "code",
   "execution_count": 89,
   "metadata": {},
   "outputs": [],
   "source": [
    "ada_boost = AdaBoostClassifier(random_state=0)\n",
    "ada_boost.fit(X_train, y_train)\n",
    "y_pred = ada_boost.predict(X_test)"
   ]
  },
  {
   "cell_type": "markdown",
   "metadata": {},
   "source": [
    "Metrics Performance"
   ]
  },
  {
   "cell_type": "code",
   "execution_count": 90,
   "metadata": {},
   "outputs": [
    {
     "name": "stdout",
     "output_type": "stream",
     "text": [
      "              precision    recall  f1-score   support\n",
      "\n",
      "           0       0.69      0.85      0.76       918\n",
      "           1       0.91      0.81      0.86      1653\n",
      "           2       0.82      1.00      0.90        47\n",
      "           3       1.00      0.36      0.53        25\n",
      "           4       0.27      0.15      0.19        53\n",
      "\n",
      "    accuracy                           0.81      2696\n",
      "   macro avg       0.74      0.63      0.65      2696\n",
      "weighted avg       0.82      0.81      0.81      2696\n",
      "\n"
     ]
    }
   ],
   "source": [
    "print(classification_report(y_test, y_pred))"
   ]
  },
  {
   "cell_type": "markdown",
   "metadata": {},
   "source": [
    "XGBoost"
   ]
  },
  {
   "cell_type": "code",
   "execution_count": 94,
   "metadata": {},
   "outputs": [],
   "source": [
    "xg_boost = XGBClassifier(random_state = 1)\n",
    "xg_boost.fit(X_train, y_train)\n",
    "y_pred = xg_boost.predict(X_test)"
   ]
  },
  {
   "cell_type": "markdown",
   "metadata": {},
   "source": [
    "Metrics Performance"
   ]
  },
  {
   "cell_type": "code",
   "execution_count": 95,
   "metadata": {},
   "outputs": [
    {
     "name": "stdout",
     "output_type": "stream",
     "text": [
      "0.9163027773397516\n"
     ]
    }
   ],
   "source": [
    "print(f1_score(y_test, y_pred, average='macro'))"
   ]
  },
  {
   "cell_type": "code",
   "execution_count": 96,
   "metadata": {},
   "outputs": [
    {
     "name": "stdout",
     "output_type": "stream",
     "text": [
      "              precision    recall  f1-score   support\n",
      "\n",
      "           0       0.85      0.85      0.85       918\n",
      "           1       0.92      0.92      0.92      1653\n",
      "           2       1.00      1.00      1.00        47\n",
      "           3       0.96      1.00      0.98        25\n",
      "           4       0.83      0.83      0.83        53\n",
      "\n",
      "    accuracy                           0.90      2696\n",
      "   macro avg       0.91      0.92      0.92      2696\n",
      "weighted avg       0.90      0.90      0.90      2696\n",
      "\n"
     ]
    }
   ],
   "source": [
    "print(classification_report(y_test, y_pred))"
   ]
  },
  {
   "cell_type": "code",
   "execution_count": 97,
   "metadata": {},
   "outputs": [
    {
     "name": "stderr",
     "output_type": "stream",
     "text": [
      "No artists with labels found to put in legend.  Note that artists whose label start with an underscore are ignored when legend() is called with no argument.\n"
     ]
    },
    {
     "data": {
      "image/png": "[encoded data removed]",
      "text/plain": [
       "<Figure size 640x480 with 1 Axes>"
      ]
     },
     "metadata": {},
     "output_type": "display_data"
    }
   ],
   "source": [
    "feature_imp(xg_boost.feature_importances_)"
   ]
  },
  {
   "cell_type": "markdown",
   "metadata": {},
   "source": [
    "Hyperparameter tuning     \n",
    "- Number of trees\n",
    "- depth of the trees\n",
    "- minimum number of samples in the leaf node\n",
    "- maximum number of features\n",
    "- split criterion"
   ]
  },
  {
   "cell_type": "markdown",
   "metadata": {},
   "source": [
    "Random forest"
   ]
  },
  {
   "cell_type": "code",
   "execution_count": 99,
   "metadata": {},
   "outputs": [],
   "source": [
    "# Number of trees in random forest\n",
    "n_estimators = [int(x) for x in np.linspace(start=200, stop=2000, num=10)]\n",
    "\n",
    "# Number of features to consider at every split\n",
    "max_features = ['auto', 'sqrt']\n",
    "\n",
    "# Maximum number of levels in tree\n",
    "max_depth = [int(x) for x in np.linspace(10, 110, num=11)]\n",
    "max_depth.append(None)\n",
    "\n",
    "# Minimum number of samples required to split a node\n",
    "min_samples_split = [2, 5, 10, 15, 20]\n",
    "\n",
    "# Minimum number of samples required at each leaf node\n",
    "min_samples_leaf = [1, 2, 4, 6, 10]"
   ]
  },
  {
   "cell_type": "code",
   "execution_count": 100,
   "metadata": {},
   "outputs": [],
   "source": [
    "random_grid = {\n",
    "    'n_estimators': n_estimators,\n",
    "    'max_features': max_features,\n",
    "    'max_depth': max_depth,\n",
    "    'min_samples_split': min_samples_split,\n",
    "    'min_samples_leaf': min_samples_leaf,\n",
    "}"
   ]
  },
  {
   "cell_type": "code",
   "execution_count": 101,
   "metadata": {},
   "outputs": [
    {
     "name": "stdout",
     "output_type": "stream",
     "text": [
      "Fitting 3 folds for each of 10 candidates, totalling 30 fits\n",
      "[CV] END max_depth=110, max_features=auto, min_samples_leaf=10, min_samples_split=10, n_estimators=1400; total time=   0.0s\n",
      "[CV] END max_depth=110, max_features=auto, min_samples_leaf=10, min_samples_split=10, n_estimators=1400; total time=   0.0s\n",
      "[CV] END max_depth=110, max_features=auto, min_samples_leaf=10, min_samples_split=10, n_estimators=1400; total time=   0.0s\n",
      "[CV] END max_depth=110, max_features=auto, min_samples_leaf=6, min_samples_split=20, n_estimators=400; total time=   0.0s\n",
      "[CV] END max_depth=110, max_features=auto, min_samples_leaf=6, min_samples_split=20, n_estimators=400; total time=   0.0s\n",
      "[CV] END max_depth=110, max_features=auto, min_samples_leaf=6, min_samples_split=20, n_estimators=400; total time=   0.0s\n",
      "[CV] END max_depth=20, max_features=sqrt, min_samples_leaf=4, min_samples_split=5, n_estimators=200; total time=   3.4s\n",
      "[CV] END max_depth=110, max_features=sqrt, min_samples_leaf=4, min_samples_split=20, n_estimators=200; total time=   3.4s\n",
      "[CV] END max_depth=20, max_features=sqrt, min_samples_leaf=4, min_samples_split=5, n_estimators=200; total time=   3.5s\n",
      "[CV] END max_depth=20, max_features=sqrt, min_samples_leaf=4, min_samples_split=5, n_estimators=200; total time=   3.5s\n",
      "[CV] END max_depth=110, max_features=sqrt, min_samples_leaf=4, min_samples_split=20, n_estimators=200; total time=   3.4s\n",
      "[CV] END max_depth=70, max_features=auto, min_samples_leaf=2, min_samples_split=20, n_estimators=600; total time=   0.0s\n",
      "[CV] END max_depth=110, max_features=sqrt, min_samples_leaf=4, min_samples_split=20, n_estimators=200; total time=   3.5s\n",
      "[CV] END max_depth=70, max_features=auto, min_samples_leaf=2, min_samples_split=20, n_estimators=600; total time=   0.0s\n",
      "[CV] END max_depth=70, max_features=auto, min_samples_leaf=2, min_samples_split=20, n_estimators=600; total time=   0.0s\n",
      "[CV] END max_depth=None, max_features=auto, min_samples_leaf=10, min_samples_split=15, n_estimators=1000; total time=   0.0s\n",
      "[CV] END max_depth=None, max_features=auto, min_samples_leaf=10, min_samples_split=15, n_estimators=1000; total time=   0.0s\n",
      "[CV] END max_depth=None, max_features=auto, min_samples_leaf=10, min_samples_split=15, n_estimators=1000; total time=   0.0s\n",
      "[CV] END max_depth=80, max_features=sqrt, min_samples_leaf=1, min_samples_split=10, n_estimators=600; total time=  11.3s\n",
      "[CV] END max_depth=80, max_features=sqrt, min_samples_leaf=1, min_samples_split=10, n_estimators=600; total time=  11.5s\n",
      "[CV] END max_depth=80, max_features=sqrt, min_samples_leaf=1, min_samples_split=10, n_estimators=600; total time=  11.5s\n",
      "[CV] END max_depth=10, max_features=sqrt, min_samples_leaf=10, min_samples_split=5, n_estimators=1400; total time=  17.5s\n",
      "[CV] END max_depth=10, max_features=sqrt, min_samples_leaf=10, min_samples_split=5, n_estimators=1400; total time=  18.1s\n",
      "[CV] END max_depth=10, max_features=sqrt, min_samples_leaf=10, min_samples_split=5, n_estimators=1400; total time=  17.7s\n",
      "[CV] END max_depth=110, max_features=sqrt, min_samples_leaf=2, min_samples_split=15, n_estimators=1000; total time=  18.1s\n",
      "[CV] END max_depth=110, max_features=sqrt, min_samples_leaf=2, min_samples_split=15, n_estimators=1000; total time=  18.3s\n",
      "[CV] END max_depth=110, max_features=sqrt, min_samples_leaf=2, min_samples_split=15, n_estimators=1000; total time=  15.8s\n",
      "[CV] END max_depth=90, max_features=sqrt, min_samples_leaf=6, min_samples_split=10, n_estimators=1400; total time=  19.2s\n",
      "[CV] END max_depth=90, max_features=sqrt, min_samples_leaf=6, min_samples_split=10, n_estimators=1400; total time=  18.9s\n",
      "[CV] END max_depth=90, max_features=sqrt, min_samples_leaf=6, min_samples_split=10, n_estimators=1400; total time=  16.3s\n"
     ]
    },
    {
     "name": "stderr",
     "output_type": "stream",
     "text": [
      "/Users/saili/Library/CloudStorage/OneDrive-GeorgeMasonUniversity-O365Production/Bag/projects/ml/.env/lib/python3.9/site-packages/sklearn/model_selection/_validation.py:425: FitFailedWarning: \n",
      "12 fits failed out of a total of 30.\n",
      "The score on these train-test partitions for these parameters will be set to nan.\n",
      "If these failures are not expected, you can try to debug them by setting error_score='raise'.\n",
      "\n",
      "Below are more details about the failures:\n",
      "--------------------------------------------------------------------------------\n",
      "9 fits failed with the following error:\n",
      "Traceback (most recent call last):\n",
      "  File \"/Users/saili/Library/CloudStorage/OneDrive-GeorgeMasonUniversity-O365Production/Bag/projects/ml/.env/lib/python3.9/site-packages/sklearn/model_selection/_validation.py\", line 732, in _fit_and_score\n",
      "    estimator.fit(X_train, y_train, **fit_params)\n",
      "  File \"/Users/saili/Library/CloudStorage/OneDrive-GeorgeMasonUniversity-O365Production/Bag/projects/ml/.env/lib/python3.9/site-packages/sklearn/base.py\", line 1144, in wrapper\n",
      "    estimator._validate_params()\n",
      "  File \"/Users/saili/Library/CloudStorage/OneDrive-GeorgeMasonUniversity-O365Production/Bag/projects/ml/.env/lib/python3.9/site-packages/sklearn/base.py\", line 637, in _validate_params\n",
      "    validate_parameter_constraints(\n",
      "  File \"/Users/saili/Library/CloudStorage/OneDrive-GeorgeMasonUniversity-O365Production/Bag/projects/ml/.env/lib/python3.9/site-packages/sklearn/utils/_param_validation.py\", line 95, in validate_parameter_constraints\n",
      "    raise InvalidParameterError(\n",
      "sklearn.utils._param_validation.InvalidParameterError: The 'max_features' parameter of RandomForestClassifier must be an int in the range [1, inf), a float in the range (0.0, 1.0], a str among {'log2', 'sqrt'} or None. Got 'auto' instead.\n",
      "\n",
      "--------------------------------------------------------------------------------\n",
      "3 fits failed with the following error:\n",
      "Traceback (most recent call last):\n",
      "  File \"/Users/saili/Library/CloudStorage/OneDrive-GeorgeMasonUniversity-O365Production/Bag/projects/ml/.env/lib/python3.9/site-packages/sklearn/model_selection/_validation.py\", line 732, in _fit_and_score\n",
      "    estimator.fit(X_train, y_train, **fit_params)\n",
      "  File \"/Users/saili/Library/CloudStorage/OneDrive-GeorgeMasonUniversity-O365Production/Bag/projects/ml/.env/lib/python3.9/site-packages/sklearn/base.py\", line 1144, in wrapper\n",
      "    estimator._validate_params()\n",
      "  File \"/Users/saili/Library/CloudStorage/OneDrive-GeorgeMasonUniversity-O365Production/Bag/projects/ml/.env/lib/python3.9/site-packages/sklearn/base.py\", line 637, in _validate_params\n",
      "    validate_parameter_constraints(\n",
      "  File \"/Users/saili/Library/CloudStorage/OneDrive-GeorgeMasonUniversity-O365Production/Bag/projects/ml/.env/lib/python3.9/site-packages/sklearn/utils/_param_validation.py\", line 95, in validate_parameter_constraints\n",
      "    raise InvalidParameterError(\n",
      "sklearn.utils._param_validation.InvalidParameterError: The 'max_features' parameter of RandomForestClassifier must be an int in the range [1, inf), a float in the range (0.0, 1.0], a str among {'sqrt', 'log2'} or None. Got 'auto' instead.\n",
      "\n",
      "  warnings.warn(some_fits_failed_message, FitFailedWarning)\n",
      "/Users/saili/Library/CloudStorage/OneDrive-GeorgeMasonUniversity-O365Production/Bag/projects/ml/.env/lib/python3.9/site-packages/sklearn/model_selection/_search.py:976: UserWarning: One or more of the test scores are non-finite: [0.8848912  0.8824184         nan        nan 0.88930102        nan\n",
      "        nan 0.87054896 0.88575668 0.88204748]\n",
      "  warnings.warn(\n"
     ]
    },
    {
     "data": {
      "text/html": [
       "<style>#sk-container-id-3 {color: black;}#sk-container-id-3 pre{padding: 0;}#sk-container-id-3 div.sk-toggleable {background-color: white;}#sk-container-id-3 label.sk-toggleable__label {cursor: pointer;display: block;width: 100%;margin-bottom: 0;padding: 0.3em;box-sizing: border-box;text-align: center;}#sk-container-id-3 label.sk-toggleable__label-arrow:before {content: \"▸\";float: left;margin-right: 0.25em;color: #696969;}#sk-container-id-3 label.sk-toggleable__label-arrow:hover:before {color: black;}#sk-container-id-3 div.sk-estimator:hover label.sk-toggleable__label-arrow:before {color: black;}#sk-container-id-3 div.sk-toggleable__content {max-height: 0;max-width: 0;overflow: hidden;text-align: left;background-color: #f0f8ff;}#sk-container-id-3 div.sk-toggleable__content pre {margin: 0.2em;color: black;border-radius: 0.25em;background-color: #f0f8ff;}#sk-container-id-3 input.sk-toggleable__control:checked~div.sk-toggleable__content {max-height: 200px;max-width: 100%;overflow: auto;}#sk-container-id-3 input.sk-toggleable__control:checked~label.sk-toggleable__label-arrow:before {content: \"▾\";}#sk-container-id-3 div.sk-estimator input.sk-toggleable__control:checked~label.sk-toggleable__label {background-color: #d4ebff;}#sk-container-id-3 div.sk-label input.sk-toggleable__control:checked~label.sk-toggleable__label {background-color: #d4ebff;}#sk-container-id-3 input.sk-hidden--visually {border: 0;clip: rect(1px 1px 1px 1px);clip: rect(1px, 1px, 1px, 1px);height: 1px;margin: -1px;overflow: hidden;padding: 0;position: absolute;width: 1px;}#sk-container-id-3 div.sk-estimator {font-family: monospace;background-color: #f0f8ff;border: 1px dotted black;border-radius: 0.25em;box-sizing: border-box;margin-bottom: 0.5em;}#sk-container-id-3 div.sk-estimator:hover {background-color: #d4ebff;}#sk-container-id-3 div.sk-parallel-item::after {content: \"\";width: 100%;border-bottom: 1px solid gray;flex-grow: 1;}#sk-container-id-3 div.sk-label:hover label.sk-toggleable__label {background-color: #d4ebff;}#sk-container-id-3 div.sk-serial::before {content: \"\";position: absolute;border-left: 1px solid gray;box-sizing: border-box;top: 0;bottom: 0;left: 50%;z-index: 0;}#sk-container-id-3 div.sk-serial {display: flex;flex-direction: column;align-items: center;background-color: white;padding-right: 0.2em;padding-left: 0.2em;position: relative;}#sk-container-id-3 div.sk-item {position: relative;z-index: 1;}#sk-container-id-3 div.sk-parallel {display: flex;align-items: stretch;justify-content: center;background-color: white;position: relative;}#sk-container-id-3 div.sk-item::before, #sk-container-id-3 div.sk-parallel-item::before {content: \"\";position: absolute;border-left: 1px solid gray;box-sizing: border-box;top: 0;bottom: 0;left: 50%;z-index: -1;}#sk-container-id-3 div.sk-parallel-item {display: flex;flex-direction: column;z-index: 1;position: relative;background-color: white;}#sk-container-id-3 div.sk-parallel-item:first-child::after {align-self: flex-end;width: 50%;}#sk-container-id-3 div.sk-parallel-item:last-child::after {align-self: flex-start;width: 50%;}#sk-container-id-3 div.sk-parallel-item:only-child::after {width: 0;}#sk-container-id-3 div.sk-dashed-wrapped {border: 1px dashed gray;margin: 0 0.4em 0.5em 0.4em;box-sizing: border-box;padding-bottom: 0.4em;background-color: white;}#sk-container-id-3 div.sk-label label {font-family: monospace;font-weight: bold;display: inline-block;line-height: 1.2em;}#sk-container-id-3 div.sk-label-container {text-align: center;}#sk-container-id-3 div.sk-container {/* jupyter's `normalize.less` sets `[hidden] { display: none; }` but bootstrap.min.css set `[hidden] { display: none !important; }` so we also need the `!important` here to be able to override the default hidden behavior on the sphinx rendered scikit-learn.org. See: https://github.com/scikit-learn/scikit-learn/issues/21755 */display: inline-block !important;position: relative;}#sk-container-id-3 div.sk-text-repr-fallback {display: none;}</style><div id=\"sk-container-id-3\" class=\"sk-top-container\"><div class=\"sk-text-repr-fallback\"><pre>RandomizedSearchCV(cv=3, estimator=RandomForestClassifier(random_state=1),\n",
       "                   n_jobs=-1,\n",
       "                   param_distributions={&#x27;max_depth&#x27;: [10, 20, 30, 40, 50, 60,\n",
       "                                                      70, 80, 90, 100, 110,\n",
       "                                                      None],\n",
       "                                        &#x27;max_features&#x27;: [&#x27;auto&#x27;, &#x27;sqrt&#x27;],\n",
       "                                        &#x27;min_samples_leaf&#x27;: [1, 2, 4, 6, 10],\n",
       "                                        &#x27;min_samples_split&#x27;: [2, 5, 10, 15, 20],\n",
       "                                        &#x27;n_estimators&#x27;: [200, 400, 600, 800,\n",
       "                                                         1000, 1200, 1400, 1600,\n",
       "                                                         1800, 2000]},\n",
       "                   random_state=42, verbose=2)</pre><b>In a Jupyter environment, please rerun this cell to show the HTML representation or trust the notebook. <br />On GitHub, the HTML representation is unable to render, please try loading this page with nbviewer.org.</b></div><div class=\"sk-container\" hidden><div class=\"sk-item sk-dashed-wrapped\"><div class=\"sk-label-container\"><div class=\"sk-label sk-toggleable\"><input class=\"sk-toggleable__control sk-hidden--visually\" id=\"sk-estimator-id-3\" type=\"checkbox\" ><label for=\"sk-estimator-id-3\" class=\"sk-toggleable__label sk-toggleable__label-arrow\">RandomizedSearchCV</label><div class=\"sk-toggleable__content\"><pre>RandomizedSearchCV(cv=3, estimator=RandomForestClassifier(random_state=1),\n",
       "                   n_jobs=-1,\n",
       "                   param_distributions={&#x27;max_depth&#x27;: [10, 20, 30, 40, 50, 60,\n",
       "                                                      70, 80, 90, 100, 110,\n",
       "                                                      None],\n",
       "                                        &#x27;max_features&#x27;: [&#x27;auto&#x27;, &#x27;sqrt&#x27;],\n",
       "                                        &#x27;min_samples_leaf&#x27;: [1, 2, 4, 6, 10],\n",
       "                                        &#x27;min_samples_split&#x27;: [2, 5, 10, 15, 20],\n",
       "                                        &#x27;n_estimators&#x27;: [200, 400, 600, 800,\n",
       "                                                         1000, 1200, 1400, 1600,\n",
       "                                                         1800, 2000]},\n",
       "                   random_state=42, verbose=2)</pre></div></div></div><div class=\"sk-parallel\"><div class=\"sk-parallel-item\"><div class=\"sk-item\"><div class=\"sk-label-container\"><div class=\"sk-label sk-toggleable\"><input class=\"sk-toggleable__control sk-hidden--visually\" id=\"sk-estimator-id-4\" type=\"checkbox\" ><label for=\"sk-estimator-id-4\" class=\"sk-toggleable__label sk-toggleable__label-arrow\">estimator: RandomForestClassifier</label><div class=\"sk-toggleable__content\"><pre>RandomForestClassifier(random_state=1)</pre></div></div></div><div class=\"sk-serial\"><div class=\"sk-item\"><div class=\"sk-estimator sk-toggleable\"><input class=\"sk-toggleable__control sk-hidden--visually\" id=\"sk-estimator-id-5\" type=\"checkbox\" ><label for=\"sk-estimator-id-5\" class=\"sk-toggleable__label sk-toggleable__label-arrow\">RandomForestClassifier</label><div class=\"sk-toggleable__content\"><pre>RandomForestClassifier(random_state=1)</pre></div></div></div></div></div></div></div></div></div></div>"
      ],
      "text/plain": [
       "RandomizedSearchCV(cv=3, estimator=RandomForestClassifier(random_state=1),\n",
       "                   n_jobs=-1,\n",
       "                   param_distributions={'max_depth': [10, 20, 30, 40, 50, 60,\n",
       "                                                      70, 80, 90, 100, 110,\n",
       "                                                      None],\n",
       "                                        'max_features': ['auto', 'sqrt'],\n",
       "                                        'min_samples_leaf': [1, 2, 4, 6, 10],\n",
       "                                        'min_samples_split': [2, 5, 10, 15, 20],\n",
       "                                        'n_estimators': [200, 400, 600, 800,\n",
       "                                                         1000, 1200, 1400, 1600,\n",
       "                                                         1800, 2000]},\n",
       "                   random_state=42, verbose=2)"
      ]
     },
     "execution_count": 101,
     "metadata": {},
     "output_type": "execute_result"
    }
   ],
   "source": [
    "rf_random = RandomizedSearchCV(estimator=rf, param_distributions=random_grid, n_iter=10, cv=3, verbose=2, random_state=42, n_jobs=-1)\n",
    "rf_random.fit(X_train, y_train)"
   ]
  },
  {
   "cell_type": "code",
   "execution_count": 102,
   "metadata": {},
   "outputs": [
    {
     "data": {
      "text/plain": [
       "{'n_estimators': 600,\n",
       " 'min_samples_split': 10,\n",
       " 'min_samples_leaf': 1,\n",
       " 'max_features': 'sqrt',\n",
       " 'max_depth': 80}"
      ]
     },
     "execution_count": 102,
     "metadata": {},
     "output_type": "execute_result"
    }
   ],
   "source": [
    "rf_random.best_params_"
   ]
  },
  {
   "cell_type": "code",
   "execution_count": 105,
   "metadata": {},
   "outputs": [],
   "source": [
    "rf_tuned = RandomForestClassifier(**rf_random.best_params_)\n",
    "rf_tuned.fit(X_train, y_train)\n",
    "y_pred = rf_tuned.predict(X_test)"
   ]
  },
  {
   "cell_type": "markdown",
   "metadata": {},
   "source": [
    "Metrics performance"
   ]
  },
  {
   "cell_type": "code",
   "execution_count": 106,
   "metadata": {},
   "outputs": [
    {
     "name": "stdout",
     "output_type": "stream",
     "text": [
      "              precision    recall  f1-score   support\n",
      "\n",
      "           0       0.82      0.85      0.84       918\n",
      "           1       0.92      0.91      0.91      1653\n",
      "           2       1.00      1.00      1.00        47\n",
      "           3       0.96      1.00      0.98        25\n",
      "           4       0.84      0.72      0.78        53\n",
      "\n",
      "    accuracy                           0.89      2696\n",
      "   macro avg       0.91      0.90      0.90      2696\n",
      "weighted avg       0.89      0.89      0.89      2696\n",
      "\n"
     ]
    }
   ],
   "source": [
    "print(classification_report(y_test, y_pred))"
   ]
  },
  {
   "cell_type": "code",
   "execution_count": 108,
   "metadata": {},
   "outputs": [],
   "source": [
    "param_grid = {\n",
    "    'max_depth': [50, 100, 150, None],\n",
    "    'min_samples_leaf': [3, 4, 5],\n",
    "    'min_samples_split': [2, 4, 5, 6],\n",
    "    'n_estimators': [50, 100, 150, 200]\n",
    "}"
   ]
  },
  {
   "cell_type": "code",
   "execution_count": 109,
   "metadata": {},
   "outputs": [
    {
     "name": "stdout",
     "output_type": "stream",
     "text": [
      "Fitting 3 folds for each of 192 candidates, totalling 576 fits\n",
      "[CV] END max_depth=50, min_samples_leaf=3, min_samples_split=2, n_estimators=50; total time=   0.8s\n",
      "[CV] END max_depth=50, min_samples_leaf=3, min_samples_split=2, n_estimators=50; total time=   0.9s\n",
      "[CV] END max_depth=50, min_samples_leaf=3, min_samples_split=2, n_estimators=50; total time=   1.2s\n",
      "[CV] END max_depth=50, min_samples_leaf=3, min_samples_split=2, n_estimators=100; total time=   2.1s\n",
      "[CV] END max_depth=50, min_samples_leaf=3, min_samples_split=2, n_estimators=100; total time=   2.1s\n",
      "[CV] END max_depth=50, min_samples_leaf=3, min_samples_split=2, n_estimators=100; total time=   2.2s\n",
      "[CV] END max_depth=50, min_samples_leaf=3, min_samples_split=2, n_estimators=150; total time=   3.2s\n",
      "[CV] END max_depth=50, min_samples_leaf=3, min_samples_split=2, n_estimators=150; total time=   3.3s\n",
      "[CV] END max_depth=50, min_samples_leaf=3, min_samples_split=4, n_estimators=50; total time=   1.1s\n",
      "[CV] END max_depth=50, min_samples_leaf=3, min_samples_split=2, n_estimators=150; total time=   3.3s\n",
      "[CV] END max_depth=50, min_samples_leaf=3, min_samples_split=4, n_estimators=50; total time=   1.4s\n",
      "[CV] END max_depth=50, min_samples_leaf=3, min_samples_split=4, n_estimators=50; total time=   1.3s\n",
      "[CV] END max_depth=50, min_samples_leaf=3, min_samples_split=2, n_estimators=200; total time=   4.5s\n",
      "[CV] END max_depth=50, min_samples_leaf=3, min_samples_split=2, n_estimators=200; total time=   4.8s\n",
      "[CV] END max_depth=50, min_samples_leaf=3, min_samples_split=4, n_estimators=100; total time=   2.6s\n",
      "[CV] END max_depth=50, min_samples_leaf=3, min_samples_split=2, n_estimators=200; total time=   4.9s\n",
      "[CV] END max_depth=50, min_samples_leaf=3, min_samples_split=4, n_estimators=100; total time=   2.6s\n",
      "[CV] END max_depth=50, min_samples_leaf=3, min_samples_split=4, n_estimators=100; total time=   2.6s\n",
      "[CV] END max_depth=50, min_samples_leaf=3, min_samples_split=5, n_estimators=50; total time=   1.0s\n",
      "[CV] END max_depth=50, min_samples_leaf=3, min_samples_split=4, n_estimators=150; total time=   3.8s\n",
      "[CV] END max_depth=50, min_samples_leaf=3, min_samples_split=4, n_estimators=150; total time=   3.2s\n",
      "[CV] END max_depth=50, min_samples_leaf=3, min_samples_split=4, n_estimators=150; total time=   3.7s\n",
      "[CV] END max_depth=50, min_samples_leaf=3, min_samples_split=5, n_estimators=50; total time=   1.0s\n",
      "[CV] END max_depth=50, min_samples_leaf=3, min_samples_split=5, n_estimators=50; total time=   0.9s\n",
      "[CV] END max_depth=50, min_samples_leaf=3, min_samples_split=4, n_estimators=200; total time=   4.1s\n",
      "[CV] END max_depth=50, min_samples_leaf=3, min_samples_split=4, n_estimators=200; total time=   4.0s\n",
      "[CV] END max_depth=50, min_samples_leaf=3, min_samples_split=5, n_estimators=100; total time=   1.8s\n",
      "[CV] END max_depth=50, min_samples_leaf=3, min_samples_split=5, n_estimators=100; total time=   1.8s\n",
      "[CV] END max_depth=50, min_samples_leaf=3, min_samples_split=4, n_estimators=200; total time=   3.8s\n",
      "[CV] END max_depth=50, min_samples_leaf=3, min_samples_split=5, n_estimators=100; total time=   1.8s\n",
      "[CV] END max_depth=50, min_samples_leaf=3, min_samples_split=5, n_estimators=150; total time=   2.8s\n",
      "[CV] END max_depth=50, min_samples_leaf=3, min_samples_split=6, n_estimators=50; total time=   0.9s\n",
      "[CV] END max_depth=50, min_samples_leaf=3, min_samples_split=5, n_estimators=150; total time=   2.7s\n",
      "[CV] END max_depth=50, min_samples_leaf=3, min_samples_split=6, n_estimators=50; total time=   0.8s\n",
      "[CV] END max_depth=50, min_samples_leaf=3, min_samples_split=5, n_estimators=150; total time=   2.7s\n",
      "[CV] END max_depth=50, min_samples_leaf=3, min_samples_split=6, n_estimators=50; total time=   0.9s\n",
      "[CV] END max_depth=50, min_samples_leaf=3, min_samples_split=5, n_estimators=200; total time=   3.6s\n",
      "[CV] END max_depth=50, min_samples_leaf=3, min_samples_split=6, n_estimators=100; total time=   1.8s\n",
      "[CV] END max_depth=50, min_samples_leaf=3, min_samples_split=5, n_estimators=200; total time=   3.7s\n",
      "[CV] END max_depth=50, min_samples_leaf=3, min_samples_split=6, n_estimators=100; total time=   1.8s\n",
      "[CV] END max_depth=50, min_samples_leaf=3, min_samples_split=5, n_estimators=200; total time=   3.7s\n",
      "[CV] END max_depth=50, min_samples_leaf=3, min_samples_split=6, n_estimators=100; total time=   1.8s\n",
      "[CV] END max_depth=50, min_samples_leaf=3, min_samples_split=6, n_estimators=150; total time=   2.7s\n",
      "[CV] END max_depth=50, min_samples_leaf=4, min_samples_split=2, n_estimators=50; total time=   0.9s\n",
      "[CV] END max_depth=50, min_samples_leaf=3, min_samples_split=6, n_estimators=150; total time=   2.8s\n",
      "[CV] END max_depth=50, min_samples_leaf=4, min_samples_split=2, n_estimators=50; total time=   0.9s\n",
      "[CV] END max_depth=50, min_samples_leaf=3, min_samples_split=6, n_estimators=150; total time=   2.7s\n",
      "[CV] END max_depth=50, min_samples_leaf=4, min_samples_split=2, n_estimators=50; total time=   0.9s\n",
      "[CV] END max_depth=50, min_samples_leaf=4, min_samples_split=2, n_estimators=100; total time=   1.7s\n",
      "[CV] END max_depth=50, min_samples_leaf=3, min_samples_split=6, n_estimators=200; total time=   3.8s\n",
      "[CV] END max_depth=50, min_samples_leaf=3, min_samples_split=6, n_estimators=200; total time=   3.7s\n",
      "[CV] END max_depth=50, min_samples_leaf=4, min_samples_split=2, n_estimators=100; total time=   1.7s\n",
      "[CV] END max_depth=50, min_samples_leaf=3, min_samples_split=6, n_estimators=200; total time=   3.7s\n",
      "[CV] END max_depth=50, min_samples_leaf=4, min_samples_split=2, n_estimators=100; total time=   1.7s\n",
      "[CV] END max_depth=50, min_samples_leaf=4, min_samples_split=2, n_estimators=150; total time=   2.9s\n",
      "[CV] END max_depth=50, min_samples_leaf=4, min_samples_split=4, n_estimators=50; total time=   1.2s\n",
      "[CV] END max_depth=50, min_samples_leaf=4, min_samples_split=2, n_estimators=150; total time=   3.0s\n",
      "[CV] END max_depth=50, min_samples_leaf=4, min_samples_split=4, n_estimators=50; total time=   1.2s\n",
      "[CV] END max_depth=50, min_samples_leaf=4, min_samples_split=4, n_estimators=50; total time=   1.1s\n",
      "[CV] END max_depth=50, min_samples_leaf=4, min_samples_split=2, n_estimators=150; total time=   3.2s\n",
      "[CV] END max_depth=50, min_samples_leaf=4, min_samples_split=2, n_estimators=200; total time=   4.3s\n",
      "[CV] END max_depth=50, min_samples_leaf=4, min_samples_split=4, n_estimators=100; total time=   2.2s\n",
      "[CV] END max_depth=50, min_samples_leaf=4, min_samples_split=2, n_estimators=200; total time=   4.5s\n",
      "[CV] END max_depth=50, min_samples_leaf=4, min_samples_split=2, n_estimators=200; total time=   4.5s\n",
      "[CV] END max_depth=50, min_samples_leaf=4, min_samples_split=4, n_estimators=100; total time=   2.3s\n",
      "[CV] END max_depth=50, min_samples_leaf=4, min_samples_split=4, n_estimators=100; total time=   2.3s\n",
      "[CV] END max_depth=50, min_samples_leaf=4, min_samples_split=4, n_estimators=150; total time=   3.5s\n",
      "[CV] END max_depth=50, min_samples_leaf=4, min_samples_split=4, n_estimators=150; total time=   3.6s\n",
      "[CV] END max_depth=50, min_samples_leaf=4, min_samples_split=5, n_estimators=50; total time=   1.4s\n",
      "[CV] END max_depth=50, min_samples_leaf=4, min_samples_split=5, n_estimators=50; total time=   1.3s\n",
      "[CV] END max_depth=50, min_samples_leaf=4, min_samples_split=4, n_estimators=150; total time=   3.6s\n",
      "[CV] END max_depth=50, min_samples_leaf=4, min_samples_split=5, n_estimators=50; total time=   1.2s\n",
      "[CV] END max_depth=50, min_samples_leaf=4, min_samples_split=4, n_estimators=200; total time=   5.1s\n",
      "[CV] END max_depth=50, min_samples_leaf=4, min_samples_split=5, n_estimators=100; total time=   2.9s\n",
      "[CV] END max_depth=50, min_samples_leaf=4, min_samples_split=4, n_estimators=200; total time=   5.5s\n",
      "[CV] END max_depth=50, min_samples_leaf=4, min_samples_split=4, n_estimators=200; total time=   5.6s\n",
      "[CV] END max_depth=50, min_samples_leaf=4, min_samples_split=5, n_estimators=100; total time=   3.3s\n",
      "[CV] END max_depth=50, min_samples_leaf=4, min_samples_split=5, n_estimators=100; total time=   3.3s\n",
      "[CV] END max_depth=50, min_samples_leaf=4, min_samples_split=5, n_estimators=150; total time=   4.6s\n",
      "[CV] END max_depth=50, min_samples_leaf=4, min_samples_split=6, n_estimators=50; total time=   1.3s\n",
      "[CV] END max_depth=50, min_samples_leaf=4, min_samples_split=5, n_estimators=150; total time=   4.7s\n",
      "[CV] END max_depth=50, min_samples_leaf=4, min_samples_split=6, n_estimators=50; total time=   1.3s\n",
      "[CV] END max_depth=50, min_samples_leaf=4, min_samples_split=6, n_estimators=50; total time=   1.4s\n",
      "[CV] END max_depth=50, min_samples_leaf=4, min_samples_split=5, n_estimators=150; total time=   4.6s\n",
      "[CV] END max_depth=50, min_samples_leaf=4, min_samples_split=6, n_estimators=100; total time=   2.9s\n",
      "[CV] END max_depth=50, min_samples_leaf=4, min_samples_split=5, n_estimators=200; total time=   5.9s\n",
      "[CV] END max_depth=50, min_samples_leaf=4, min_samples_split=6, n_estimators=100; total time=   3.0s\n",
      "[CV] END max_depth=50, min_samples_leaf=4, min_samples_split=5, n_estimators=200; total time=   5.7s\n",
      "[CV] END max_depth=50, min_samples_leaf=4, min_samples_split=6, n_estimators=100; total time=   2.9s\n",
      "[CV] END max_depth=50, min_samples_leaf=4, min_samples_split=5, n_estimators=200; total time=   5.6s\n",
      "[CV] END max_depth=50, min_samples_leaf=5, min_samples_split=2, n_estimators=50; total time=   1.1s\n",
      "[CV] END max_depth=50, min_samples_leaf=4, min_samples_split=6, n_estimators=150; total time=   4.2s\n",
      "[CV] END max_depth=50, min_samples_leaf=4, min_samples_split=6, n_estimators=150; total time=   3.9s\n",
      "[CV] END max_depth=50, min_samples_leaf=5, min_samples_split=2, n_estimators=50; total time=   1.1s\n",
      "[CV] END max_depth=50, min_samples_leaf=4, min_samples_split=6, n_estimators=150; total time=   3.8s\n",
      "[CV] END max_depth=50, min_samples_leaf=5, min_samples_split=2, n_estimators=50; total time=   1.5s\n",
      "[CV] END max_depth=50, min_samples_leaf=4, min_samples_split=6, n_estimators=200; total time=   5.0s\n",
      "[CV] END max_depth=50, min_samples_leaf=5, min_samples_split=2, n_estimators=100; total time=   3.0s\n",
      "[CV] END max_depth=50, min_samples_leaf=4, min_samples_split=6, n_estimators=200; total time=   5.7s\n",
      "[CV] END max_depth=50, min_samples_leaf=4, min_samples_split=6, n_estimators=200; total time=   5.5s\n",
      "[CV] END max_depth=50, min_samples_leaf=5, min_samples_split=2, n_estimators=100; total time=   3.1s\n",
      "[CV] END max_depth=50, min_samples_leaf=5, min_samples_split=2, n_estimators=100; total time=   2.9s\n",
      "[CV] END max_depth=50, min_samples_leaf=5, min_samples_split=2, n_estimators=150; total time=   3.9s\n",
      "[CV] END max_depth=50, min_samples_leaf=5, min_samples_split=2, n_estimators=150; total time=   4.2s\n",
      "[CV] END max_depth=50, min_samples_leaf=5, min_samples_split=4, n_estimators=50; total time=   1.5s\n",
      "[CV] END max_depth=50, min_samples_leaf=5, min_samples_split=4, n_estimators=50; total time=   1.5s\n",
      "[CV] END max_depth=50, min_samples_leaf=5, min_samples_split=4, n_estimators=50; total time=   1.3s\n",
      "[CV] END max_depth=50, min_samples_leaf=5, min_samples_split=2, n_estimators=150; total time=   4.0s\n",
      "[CV] END max_depth=50, min_samples_leaf=5, min_samples_split=4, n_estimators=100; total time=   2.5s\n",
      "[CV] END max_depth=50, min_samples_leaf=5, min_samples_split=2, n_estimators=200; total time=   5.0s\n",
      "[CV] END max_depth=50, min_samples_leaf=5, min_samples_split=2, n_estimators=200; total time=   5.1s\n",
      "[CV] END max_depth=50, min_samples_leaf=5, min_samples_split=4, n_estimators=100; total time=   2.5s\n",
      "[CV] END max_depth=50, min_samples_leaf=5, min_samples_split=4, n_estimators=100; total time=   2.4s\n",
      "[CV] END max_depth=50, min_samples_leaf=5, min_samples_split=2, n_estimators=200; total time=   5.2s\n",
      "[CV] END max_depth=50, min_samples_leaf=5, min_samples_split=4, n_estimators=150; total time=   3.7s\n",
      "[CV] END max_depth=50, min_samples_leaf=5, min_samples_split=4, n_estimators=150; total time=   3.7s\n",
      "[CV] END max_depth=50, min_samples_leaf=5, min_samples_split=5, n_estimators=50; total time=   1.2s\n",
      "[CV] END max_depth=50, min_samples_leaf=5, min_samples_split=5, n_estimators=50; total time=   1.0s\n",
      "[CV] END max_depth=50, min_samples_leaf=5, min_samples_split=4, n_estimators=150; total time=   3.2s\n",
      "[CV] END max_depth=50, min_samples_leaf=5, min_samples_split=5, n_estimators=50; total time=   0.9s\n",
      "[CV] END max_depth=50, min_samples_leaf=5, min_samples_split=4, n_estimators=200; total time=   3.9s\n",
      "[CV] END max_depth=50, min_samples_leaf=5, min_samples_split=4, n_estimators=200; total time=   4.1s\n",
      "[CV] END max_depth=50, min_samples_leaf=5, min_samples_split=5, n_estimators=100; total time=   2.2s\n",
      "[CV] END max_depth=50, min_samples_leaf=5, min_samples_split=4, n_estimators=200; total time=   4.5s\n",
      "[CV] END max_depth=50, min_samples_leaf=5, min_samples_split=5, n_estimators=100; total time=   2.4s\n",
      "[CV] END max_depth=50, min_samples_leaf=5, min_samples_split=5, n_estimators=100; total time=   2.6s\n",
      "[CV] END max_depth=50, min_samples_leaf=5, min_samples_split=6, n_estimators=50; total time=   1.4s\n",
      "[CV] END max_depth=50, min_samples_leaf=5, min_samples_split=5, n_estimators=150; total time=   3.9s\n",
      "[CV] END max_depth=50, min_samples_leaf=5, min_samples_split=6, n_estimators=50; total time=   1.3s\n",
      "[CV] END max_depth=50, min_samples_leaf=5, min_samples_split=5, n_estimators=150; total time=   4.0s\n",
      "[CV] END max_depth=50, min_samples_leaf=5, min_samples_split=5, n_estimators=150; total time=   3.9s\n",
      "[CV] END max_depth=50, min_samples_leaf=5, min_samples_split=6, n_estimators=50; total time=   1.0s\n",
      "[CV] END max_depth=50, min_samples_leaf=5, min_samples_split=5, n_estimators=200; total time=   5.2s\n",
      "[CV] END max_depth=50, min_samples_leaf=5, min_samples_split=6, n_estimators=100; total time=   2.3s\n",
      "[CV] END max_depth=50, min_samples_leaf=5, min_samples_split=5, n_estimators=200; total time=   5.1s\n",
      "[CV] END max_depth=50, min_samples_leaf=5, min_samples_split=5, n_estimators=200; total time=   4.9s\n",
      "[CV] END max_depth=50, min_samples_leaf=5, min_samples_split=6, n_estimators=100; total time=   2.5s\n",
      "[CV] END max_depth=50, min_samples_leaf=5, min_samples_split=6, n_estimators=100; total time=   2.5s\n",
      "[CV] END max_depth=50, min_samples_leaf=5, min_samples_split=6, n_estimators=150; total time=   3.6s\n",
      "[CV] END max_depth=50, min_samples_leaf=5, min_samples_split=6, n_estimators=150; total time=   3.4s\n",
      "[CV] END max_depth=100, min_samples_leaf=3, min_samples_split=2, n_estimators=50; total time=   1.1s\n",
      "[CV] END max_depth=100, min_samples_leaf=3, min_samples_split=2, n_estimators=50; total time=   1.3s\n",
      "[CV] END max_depth=50, min_samples_leaf=5, min_samples_split=6, n_estimators=150; total time=   3.7s\n",
      "[CV] END max_depth=100, min_samples_leaf=3, min_samples_split=2, n_estimators=50; total time=   1.7s\n",
      "[CV] END max_depth=50, min_samples_leaf=5, min_samples_split=6, n_estimators=200; total time=   5.1s\n",
      "[CV] END max_depth=50, min_samples_leaf=5, min_samples_split=6, n_estimators=200; total time=   5.2s\n",
      "[CV] END max_depth=100, min_samples_leaf=3, min_samples_split=2, n_estimators=100; total time=   3.0s\n",
      "[CV] END max_depth=50, min_samples_leaf=5, min_samples_split=6, n_estimators=200; total time=   5.0s\n",
      "[CV] END max_depth=100, min_samples_leaf=3, min_samples_split=2, n_estimators=100; total time=   2.8s\n",
      "[CV] END max_depth=100, min_samples_leaf=3, min_samples_split=2, n_estimators=100; total time=   2.6s\n",
      "[CV] END max_depth=100, min_samples_leaf=3, min_samples_split=2, n_estimators=150; total time=   3.5s\n",
      "[CV] END max_depth=100, min_samples_leaf=3, min_samples_split=2, n_estimators=150; total time=   3.3s\n",
      "[CV] END max_depth=100, min_samples_leaf=3, min_samples_split=4, n_estimators=50; total time=   1.1s\n",
      "[CV] END max_depth=100, min_samples_leaf=3, min_samples_split=4, n_estimators=50; total time=   1.2s\n",
      "[CV] END max_depth=100, min_samples_leaf=3, min_samples_split=4, n_estimators=50; total time=   1.4s\n",
      "[CV] END max_depth=100, min_samples_leaf=3, min_samples_split=2, n_estimators=150; total time=   3.8s\n",
      "[CV] END max_depth=100, min_samples_leaf=3, min_samples_split=4, n_estimators=100; total time=   2.7s\n",
      "[CV] END max_depth=100, min_samples_leaf=3, min_samples_split=4, n_estimators=100; total time=   2.6s\n",
      "[CV] END max_depth=100, min_samples_leaf=3, min_samples_split=2, n_estimators=200; total time=   4.9s\n",
      "[CV] END max_depth=100, min_samples_leaf=3, min_samples_split=2, n_estimators=200; total time=   4.9s\n",
      "[CV] END max_depth=100, min_samples_leaf=3, min_samples_split=4, n_estimators=100; total time=   2.4s\n",
      "[CV] END max_depth=100, min_samples_leaf=3, min_samples_split=2, n_estimators=200; total time=   4.9s\n",
      "[CV] END max_depth=100, min_samples_leaf=3, min_samples_split=4, n_estimators=150; total time=   3.2s\n",
      "[CV] END max_depth=100, min_samples_leaf=3, min_samples_split=4, n_estimators=150; total time=   3.2s\n",
      "[CV] END max_depth=100, min_samples_leaf=3, min_samples_split=5, n_estimators=50; total time=   1.2s\n",
      "[CV] END max_depth=100, min_samples_leaf=3, min_samples_split=5, n_estimators=50; total time=   1.4s\n",
      "[CV] END max_depth=100, min_samples_leaf=3, min_samples_split=5, n_estimators=50; total time=   1.4s\n",
      "[CV] END max_depth=100, min_samples_leaf=3, min_samples_split=4, n_estimators=150; total time=   3.4s\n",
      "[CV] END max_depth=100, min_samples_leaf=3, min_samples_split=5, n_estimators=100; total time=   2.3s\n",
      "[CV] END max_depth=100, min_samples_leaf=3, min_samples_split=5, n_estimators=100; total time=   2.3s\n",
      "[CV] END max_depth=100, min_samples_leaf=3, min_samples_split=4, n_estimators=200; total time=   4.7s\n",
      "[CV] END max_depth=100, min_samples_leaf=3, min_samples_split=4, n_estimators=200; total time=   5.0s\n",
      "[CV] END max_depth=100, min_samples_leaf=3, min_samples_split=5, n_estimators=100; total time=   2.5s\n",
      "[CV] END max_depth=100, min_samples_leaf=3, min_samples_split=4, n_estimators=200; total time=   5.0s\n",
      "[CV] END max_depth=100, min_samples_leaf=3, min_samples_split=5, n_estimators=150; total time=   3.6s\n",
      "[CV] END max_depth=100, min_samples_leaf=3, min_samples_split=6, n_estimators=50; total time=   1.3s\n",
      "[CV] END max_depth=100, min_samples_leaf=3, min_samples_split=5, n_estimators=150; total time=   3.9s\n",
      "[CV] END max_depth=100, min_samples_leaf=3, min_samples_split=6, n_estimators=50; total time=   1.2s\n",
      "[CV] END max_depth=100, min_samples_leaf=3, min_samples_split=5, n_estimators=150; total time=   4.0s\n",
      "[CV] END max_depth=100, min_samples_leaf=3, min_samples_split=6, n_estimators=50; total time=   1.4s\n",
      "[CV] END max_depth=100, min_samples_leaf=3, min_samples_split=5, n_estimators=200; total time=   4.9s\n",
      "[CV] END max_depth=100, min_samples_leaf=3, min_samples_split=6, n_estimators=100; total time=   2.4s\n",
      "[CV] END max_depth=100, min_samples_leaf=3, min_samples_split=6, n_estimators=100; total time=   2.3s\n",
      "[CV] END max_depth=100, min_samples_leaf=3, min_samples_split=5, n_estimators=200; total time=   4.9s\n",
      "[CV] END max_depth=100, min_samples_leaf=3, min_samples_split=5, n_estimators=200; total time=   4.9s\n",
      "[CV] END max_depth=100, min_samples_leaf=3, min_samples_split=6, n_estimators=100; total time=   2.4s\n",
      "[CV] END max_depth=100, min_samples_leaf=3, min_samples_split=6, n_estimators=150; total time=   3.4s\n",
      "[CV] END max_depth=100, min_samples_leaf=3, min_samples_split=6, n_estimators=150; total time=   3.4s\n",
      "[CV] END max_depth=100, min_samples_leaf=4, min_samples_split=2, n_estimators=50; total time=   1.2s\n",
      "[CV] END max_depth=100, min_samples_leaf=4, min_samples_split=2, n_estimators=50; total time=   1.2s\n",
      "[CV] END max_depth=100, min_samples_leaf=3, min_samples_split=6, n_estimators=150; total time=   3.6s\n",
      "[CV] END max_depth=100, min_samples_leaf=4, min_samples_split=2, n_estimators=50; total time=   1.2s\n",
      "[CV] END max_depth=100, min_samples_leaf=3, min_samples_split=6, n_estimators=200; total time=   4.7s\n",
      "[CV] END max_depth=100, min_samples_leaf=4, min_samples_split=2, n_estimators=100; total time=   2.3s\n",
      "[CV] END max_depth=100, min_samples_leaf=4, min_samples_split=2, n_estimators=100; total time=   2.2s\n",
      "[CV] END max_depth=100, min_samples_leaf=3, min_samples_split=6, n_estimators=200; total time=   4.8s\n",
      "[CV] END max_depth=100, min_samples_leaf=3, min_samples_split=6, n_estimators=200; total time=   4.6s\n",
      "[CV] END max_depth=100, min_samples_leaf=4, min_samples_split=2, n_estimators=100; total time=   2.2s\n",
      "[CV] END max_depth=100, min_samples_leaf=4, min_samples_split=2, n_estimators=150; total time=   3.5s\n",
      "[CV] END max_depth=100, min_samples_leaf=4, min_samples_split=2, n_estimators=150; total time=   3.3s\n",
      "[CV] END max_depth=100, min_samples_leaf=4, min_samples_split=4, n_estimators=50; total time=   1.2s\n",
      "[CV] END max_depth=100, min_samples_leaf=4, min_samples_split=4, n_estimators=50; total time=   1.2s\n",
      "[CV] END max_depth=100, min_samples_leaf=4, min_samples_split=2, n_estimators=150; total time=   3.7s\n",
      "[CV] END max_depth=100, min_samples_leaf=4, min_samples_split=4, n_estimators=50; total time=   1.3s\n",
      "[CV] END max_depth=100, min_samples_leaf=4, min_samples_split=2, n_estimators=200; total time=   5.0s\n",
      "[CV] END max_depth=100, min_samples_leaf=4, min_samples_split=4, n_estimators=100; total time=   2.5s\n",
      "[CV] END max_depth=100, min_samples_leaf=4, min_samples_split=4, n_estimators=100; total time=   2.4s\n",
      "[CV] END max_depth=100, min_samples_leaf=4, min_samples_split=2, n_estimators=200; total time=   5.0s\n",
      "[CV] END max_depth=100, min_samples_leaf=4, min_samples_split=4, n_estimators=100; total time=   2.4s\n",
      "[CV] END max_depth=100, min_samples_leaf=4, min_samples_split=2, n_estimators=200; total time=   5.0s\n",
      "[CV] END max_depth=100, min_samples_leaf=4, min_samples_split=4, n_estimators=150; total time=   3.2s\n",
      "[CV] END max_depth=100, min_samples_leaf=4, min_samples_split=4, n_estimators=150; total time=   3.2s\n",
      "[CV] END max_depth=100, min_samples_leaf=4, min_samples_split=5, n_estimators=50; total time=   1.2s\n",
      "[CV] END max_depth=100, min_samples_leaf=4, min_samples_split=5, n_estimators=50; total time=   1.5s\n",
      "[CV] END max_depth=100, min_samples_leaf=4, min_samples_split=4, n_estimators=150; total time=   3.4s\n",
      "[CV] END max_depth=100, min_samples_leaf=4, min_samples_split=5, n_estimators=50; total time=   1.4s\n",
      "[CV] END max_depth=100, min_samples_leaf=4, min_samples_split=5, n_estimators=100; total time=   2.4s\n",
      "[CV] END max_depth=100, min_samples_leaf=4, min_samples_split=4, n_estimators=200; total time=   4.5s\n",
      "[CV] END max_depth=100, min_samples_leaf=4, min_samples_split=5, n_estimators=100; total time=   2.4s\n",
      "[CV] END max_depth=100, min_samples_leaf=4, min_samples_split=4, n_estimators=200; total time=   4.6s\n",
      "[CV] END max_depth=100, min_samples_leaf=4, min_samples_split=4, n_estimators=200; total time=   4.6s\n",
      "[CV] END max_depth=100, min_samples_leaf=4, min_samples_split=5, n_estimators=100; total time=   2.3s\n",
      "[CV] END max_depth=100, min_samples_leaf=4, min_samples_split=5, n_estimators=150; total time=   4.0s\n",
      "[CV] END max_depth=100, min_samples_leaf=4, min_samples_split=6, n_estimators=50; total time=   1.4s\n",
      "[CV] END max_depth=100, min_samples_leaf=4, min_samples_split=6, n_estimators=50; total time=   1.3s\n",
      "[CV] END max_depth=100, min_samples_leaf=4, min_samples_split=5, n_estimators=150; total time=   4.1s\n",
      "[CV] END max_depth=100, min_samples_leaf=4, min_samples_split=6, n_estimators=50; total time=   1.2s\n",
      "[CV] END max_depth=100, min_samples_leaf=4, min_samples_split=5, n_estimators=150; total time=   4.2s\n",
      "[CV] END max_depth=100, min_samples_leaf=4, min_samples_split=6, n_estimators=100; total time=   2.2s\n",
      "[CV] END max_depth=100, min_samples_leaf=4, min_samples_split=5, n_estimators=200; total time=   5.1s\n",
      "[CV] END max_depth=100, min_samples_leaf=4, min_samples_split=5, n_estimators=200; total time=   5.1s\n",
      "[CV] END max_depth=100, min_samples_leaf=4, min_samples_split=5, n_estimators=200; total time=   4.9s\n",
      "[CV] END max_depth=100, min_samples_leaf=4, min_samples_split=6, n_estimators=100; total time=   2.2s\n",
      "[CV] END max_depth=100, min_samples_leaf=4, min_samples_split=6, n_estimators=100; total time=   2.2s\n",
      "[CV] END max_depth=100, min_samples_leaf=5, min_samples_split=2, n_estimators=50; total time=   1.1s\n",
      "[CV] END max_depth=100, min_samples_leaf=5, min_samples_split=2, n_estimators=50; total time=   1.0s\n",
      "[CV] END max_depth=100, min_samples_leaf=4, min_samples_split=6, n_estimators=150; total time=   3.6s\n",
      "[CV] END max_depth=100, min_samples_leaf=4, min_samples_split=6, n_estimators=150; total time=   3.4s\n",
      "[CV] END max_depth=100, min_samples_leaf=5, min_samples_split=2, n_estimators=50; total time=   1.0s\n",
      "[CV] END max_depth=100, min_samples_leaf=4, min_samples_split=6, n_estimators=150; total time=   3.5s\n",
      "[CV] END max_depth=100, min_samples_leaf=4, min_samples_split=6, n_estimators=200; total time=   4.4s\n",
      "[CV] END max_depth=100, min_samples_leaf=5, min_samples_split=2, n_estimators=100; total time=   2.1s\n",
      "[CV] END max_depth=100, min_samples_leaf=5, min_samples_split=2, n_estimators=100; total time=   2.1s\n",
      "[CV] END max_depth=100, min_samples_leaf=4, min_samples_split=6, n_estimators=200; total time=   4.5s\n",
      "[CV] END max_depth=100, min_samples_leaf=4, min_samples_split=6, n_estimators=200; total time=   4.4s\n",
      "[CV] END max_depth=100, min_samples_leaf=5, min_samples_split=2, n_estimators=100; total time=   2.0s\n",
      "[CV] END max_depth=100, min_samples_leaf=5, min_samples_split=2, n_estimators=150; total time=   3.1s\n",
      "[CV] END max_depth=100, min_samples_leaf=5, min_samples_split=2, n_estimators=150; total time=   2.9s\n",
      "[CV] END max_depth=100, min_samples_leaf=5, min_samples_split=4, n_estimators=50; total time=   0.9s\n",
      "[CV] END max_depth=100, min_samples_leaf=5, min_samples_split=4, n_estimators=50; total time=   0.9s\n",
      "[CV] END max_depth=100, min_samples_leaf=5, min_samples_split=2, n_estimators=150; total time=   2.7s\n",
      "[CV] END max_depth=100, min_samples_leaf=5, min_samples_split=4, n_estimators=50; total time=   0.9s\n",
      "[CV] END max_depth=100, min_samples_leaf=5, min_samples_split=2, n_estimators=200; total time=   3.8s\n",
      "[CV] END max_depth=100, min_samples_leaf=5, min_samples_split=4, n_estimators=100; total time=   1.8s\n",
      "[CV] END max_depth=100, min_samples_leaf=5, min_samples_split=2, n_estimators=200; total time=   3.7s\n",
      "[CV] END max_depth=100, min_samples_leaf=5, min_samples_split=4, n_estimators=100; total time=   1.9s\n",
      "[CV] END max_depth=100, min_samples_leaf=5, min_samples_split=2, n_estimators=200; total time=   3.7s\n",
      "[CV] END max_depth=100, min_samples_leaf=5, min_samples_split=4, n_estimators=100; total time=   1.8s\n",
      "[CV] END max_depth=100, min_samples_leaf=5, min_samples_split=4, n_estimators=150; total time=   2.7s\n",
      "[CV] END max_depth=100, min_samples_leaf=5, min_samples_split=5, n_estimators=50; total time=   1.0s\n",
      "[CV] END max_depth=100, min_samples_leaf=5, min_samples_split=4, n_estimators=150; total time=   2.9s\n",
      "[CV] END max_depth=100, min_samples_leaf=5, min_samples_split=5, n_estimators=50; total time=   0.9s\n",
      "[CV] END max_depth=100, min_samples_leaf=5, min_samples_split=4, n_estimators=150; total time=   2.7s\n",
      "[CV] END max_depth=100, min_samples_leaf=5, min_samples_split=5, n_estimators=50; total time=   0.8s\n",
      "[CV] END max_depth=100, min_samples_leaf=5, min_samples_split=4, n_estimators=200; total time=   3.8s\n",
      "[CV] END max_depth=100, min_samples_leaf=5, min_samples_split=5, n_estimators=100; total time=   1.8s\n",
      "[CV] END max_depth=100, min_samples_leaf=5, min_samples_split=4, n_estimators=200; total time=   4.0s\n",
      "[CV] END max_depth=100, min_samples_leaf=5, min_samples_split=5, n_estimators=100; total time=   2.1s\n",
      "[CV] END max_depth=100, min_samples_leaf=5, min_samples_split=4, n_estimators=200; total time=   4.3s\n",
      "[CV] END max_depth=100, min_samples_leaf=5, min_samples_split=5, n_estimators=100; total time=   2.3s\n",
      "[CV] END max_depth=100, min_samples_leaf=5, min_samples_split=5, n_estimators=150; total time=   3.6s\n",
      "[CV] END max_depth=100, min_samples_leaf=5, min_samples_split=5, n_estimators=150; total time=   3.5s\n",
      "[CV] END max_depth=100, min_samples_leaf=5, min_samples_split=6, n_estimators=50; total time=   1.2s\n",
      "[CV] END max_depth=100, min_samples_leaf=5, min_samples_split=6, n_estimators=50; total time=   1.3s\n",
      "[CV] END max_depth=100, min_samples_leaf=5, min_samples_split=5, n_estimators=150; total time=   3.9s\n",
      "[CV] END max_depth=100, min_samples_leaf=5, min_samples_split=6, n_estimators=50; total time=   1.2s\n",
      "[CV] END max_depth=100, min_samples_leaf=5, min_samples_split=5, n_estimators=200; total time=   4.9s\n",
      "[CV] END max_depth=100, min_samples_leaf=5, min_samples_split=6, n_estimators=100; total time=   2.5s\n",
      "[CV] END max_depth=100, min_samples_leaf=5, min_samples_split=5, n_estimators=200; total time=   5.1s\n",
      "[CV] END max_depth=100, min_samples_leaf=5, min_samples_split=6, n_estimators=100; total time=   2.5s\n",
      "[CV] END max_depth=100, min_samples_leaf=5, min_samples_split=6, n_estimators=100; total time=   2.5s\n",
      "[CV] END max_depth=100, min_samples_leaf=5, min_samples_split=5, n_estimators=200; total time=   5.2s\n",
      "[CV] END max_depth=100, min_samples_leaf=5, min_samples_split=6, n_estimators=150; total time=   3.7s\n",
      "[CV] END max_depth=100, min_samples_leaf=5, min_samples_split=6, n_estimators=150; total time=   3.9s\n",
      "[CV] END max_depth=150, min_samples_leaf=3, min_samples_split=2, n_estimators=50; total time=   1.3s\n",
      "[CV] END max_depth=150, min_samples_leaf=3, min_samples_split=2, n_estimators=50; total time=   1.4s\n",
      "[CV] END max_depth=100, min_samples_leaf=5, min_samples_split=6, n_estimators=150; total time=   3.7s\n",
      "[CV] END max_depth=150, min_samples_leaf=3, min_samples_split=2, n_estimators=50; total time=   1.5s\n",
      "[CV] END max_depth=100, min_samples_leaf=5, min_samples_split=6, n_estimators=200; total time=   5.3s\n",
      "[CV] END max_depth=100, min_samples_leaf=5, min_samples_split=6, n_estimators=200; total time=   5.6s\n",
      "[CV] END max_depth=150, min_samples_leaf=3, min_samples_split=2, n_estimators=100; total time=   3.1s\n",
      "[CV] END max_depth=100, min_samples_leaf=5, min_samples_split=6, n_estimators=200; total time=   5.5s\n",
      "[CV] END max_depth=150, min_samples_leaf=3, min_samples_split=2, n_estimators=100; total time=   3.2s\n",
      "[CV] END max_depth=150, min_samples_leaf=3, min_samples_split=2, n_estimators=100; total time=   3.3s\n",
      "[CV] END max_depth=150, min_samples_leaf=3, min_samples_split=4, n_estimators=50; total time=   1.3s\n",
      "[CV] END max_depth=150, min_samples_leaf=3, min_samples_split=2, n_estimators=150; total time=   4.5s\n",
      "[CV] END max_depth=150, min_samples_leaf=3, min_samples_split=4, n_estimators=50; total time=   1.3s\n",
      "[CV] END max_depth=150, min_samples_leaf=3, min_samples_split=2, n_estimators=150; total time=   4.2s\n",
      "[CV] END max_depth=150, min_samples_leaf=3, min_samples_split=4, n_estimators=50; total time=   1.2s\n",
      "[CV] END max_depth=150, min_samples_leaf=3, min_samples_split=2, n_estimators=150; total time=   3.8s\n",
      "[CV] END max_depth=150, min_samples_leaf=3, min_samples_split=4, n_estimators=100; total time=   2.4s\n",
      "[CV] END max_depth=150, min_samples_leaf=3, min_samples_split=2, n_estimators=200; total time=   5.1s\n",
      "[CV] END max_depth=150, min_samples_leaf=3, min_samples_split=2, n_estimators=200; total time=   5.1s\n",
      "[CV] END max_depth=150, min_samples_leaf=3, min_samples_split=4, n_estimators=100; total time=   2.3s\n",
      "[CV] END max_depth=150, min_samples_leaf=3, min_samples_split=2, n_estimators=200; total time=   5.2s\n",
      "[CV] END max_depth=150, min_samples_leaf=3, min_samples_split=4, n_estimators=100; total time=   2.5s\n",
      "[CV] END max_depth=150, min_samples_leaf=3, min_samples_split=4, n_estimators=150; total time=   3.6s\n",
      "[CV] END max_depth=150, min_samples_leaf=3, min_samples_split=4, n_estimators=150; total time=   3.9s\n",
      "[CV] END max_depth=150, min_samples_leaf=3, min_samples_split=5, n_estimators=50; total time=   1.3s\n",
      "[CV] END max_depth=150, min_samples_leaf=3, min_samples_split=5, n_estimators=50; total time=   1.3s\n",
      "[CV] END max_depth=150, min_samples_leaf=3, min_samples_split=4, n_estimators=150; total time=   3.8s\n",
      "[CV] END max_depth=150, min_samples_leaf=3, min_samples_split=5, n_estimators=50; total time=   1.6s\n",
      "[CV] END max_depth=150, min_samples_leaf=3, min_samples_split=4, n_estimators=200; total time=   5.8s\n",
      "[CV] END max_depth=150, min_samples_leaf=3, min_samples_split=5, n_estimators=100; total time=   3.5s\n",
      "[CV] END max_depth=150, min_samples_leaf=3, min_samples_split=4, n_estimators=200; total time=   6.1s\n",
      "[CV] END max_depth=150, min_samples_leaf=3, min_samples_split=5, n_estimators=100; total time=   3.6s\n",
      "[CV] END max_depth=150, min_samples_leaf=3, min_samples_split=5, n_estimators=100; total time=   3.5s\n",
      "[CV] END max_depth=150, min_samples_leaf=3, min_samples_split=4, n_estimators=200; total time=   6.5s\n",
      "[CV] END max_depth=150, min_samples_leaf=3, min_samples_split=5, n_estimators=150; total time=   4.5s\n",
      "[CV] END max_depth=150, min_samples_leaf=3, min_samples_split=5, n_estimators=150; total time=   4.5s\n",
      "[CV] END max_depth=150, min_samples_leaf=3, min_samples_split=6, n_estimators=50; total time=   1.3s\n",
      "[CV] END max_depth=150, min_samples_leaf=3, min_samples_split=6, n_estimators=50; total time=   1.4s\n",
      "[CV] END max_depth=150, min_samples_leaf=3, min_samples_split=6, n_estimators=50; total time=   1.2s\n",
      "[CV] END max_depth=150, min_samples_leaf=3, min_samples_split=5, n_estimators=150; total time=   4.4s\n",
      "[CV] END max_depth=150, min_samples_leaf=3, min_samples_split=6, n_estimators=100; total time=   2.7s\n",
      "[CV] END max_depth=150, min_samples_leaf=3, min_samples_split=6, n_estimators=100; total time=   2.7s\n",
      "[CV] END max_depth=150, min_samples_leaf=3, min_samples_split=5, n_estimators=200; total time=   5.7s\n",
      "[CV] END max_depth=150, min_samples_leaf=3, min_samples_split=5, n_estimators=200; total time=   5.5s\n",
      "[CV] END max_depth=150, min_samples_leaf=3, min_samples_split=5, n_estimators=200; total time=   5.7s\n",
      "[CV] END max_depth=150, min_samples_leaf=3, min_samples_split=6, n_estimators=100; total time=   3.0s\n",
      "[CV] END max_depth=150, min_samples_leaf=4, min_samples_split=2, n_estimators=50; total time=   1.6s\n",
      "[CV] END max_depth=150, min_samples_leaf=3, min_samples_split=6, n_estimators=150; total time=   4.7s\n",
      "[CV] END max_depth=150, min_samples_leaf=4, min_samples_split=2, n_estimators=50; total time=   1.6s\n",
      "[CV] END max_depth=150, min_samples_leaf=3, min_samples_split=6, n_estimators=150; total time=   4.7s\n",
      "[CV] END max_depth=150, min_samples_leaf=4, min_samples_split=2, n_estimators=50; total time=   1.5s\n",
      "[CV] END max_depth=150, min_samples_leaf=3, min_samples_split=6, n_estimators=150; total time=   5.0s\n",
      "[CV] END max_depth=150, min_samples_leaf=4, min_samples_split=2, n_estimators=100; total time=   3.2s\n",
      "[CV] END max_depth=150, min_samples_leaf=3, min_samples_split=6, n_estimators=200; total time=   6.5s\n",
      "[CV] END max_depth=150, min_samples_leaf=4, min_samples_split=2, n_estimators=100; total time=   3.0s\n",
      "[CV] END max_depth=150, min_samples_leaf=3, min_samples_split=6, n_estimators=200; total time=   6.4s\n",
      "[CV] END max_depth=150, min_samples_leaf=3, min_samples_split=6, n_estimators=200; total time=   6.3s\n",
      "[CV] END max_depth=150, min_samples_leaf=4, min_samples_split=2, n_estimators=100; total time=   2.9s\n",
      "[CV] END max_depth=150, min_samples_leaf=4, min_samples_split=2, n_estimators=150; total time=   4.3s\n",
      "[CV] END max_depth=150, min_samples_leaf=4, min_samples_split=2, n_estimators=150; total time=   4.2s\n",
      "[CV] END max_depth=150, min_samples_leaf=4, min_samples_split=4, n_estimators=50; total time=   1.8s\n",
      "[CV] END max_depth=150, min_samples_leaf=4, min_samples_split=4, n_estimators=50; total time=   1.5s\n",
      "[CV] END max_depth=150, min_samples_leaf=4, min_samples_split=4, n_estimators=50; total time=   1.4s\n",
      "[CV] END max_depth=150, min_samples_leaf=4, min_samples_split=2, n_estimators=150; total time=   4.6s\n",
      "[CV] END max_depth=150, min_samples_leaf=4, min_samples_split=4, n_estimators=100; total time=   2.9s\n",
      "[CV] END max_depth=150, min_samples_leaf=4, min_samples_split=2, n_estimators=200; total time=   6.3s\n",
      "[CV] END max_depth=150, min_samples_leaf=4, min_samples_split=4, n_estimators=100; total time=   3.0s\n",
      "[CV] END max_depth=150, min_samples_leaf=4, min_samples_split=4, n_estimators=100; total time=   2.9s\n",
      "[CV] END max_depth=150, min_samples_leaf=4, min_samples_split=2, n_estimators=200; total time=   6.5s\n",
      "[CV] END max_depth=150, min_samples_leaf=4, min_samples_split=2, n_estimators=200; total time=   6.2s\n",
      "[CV] END max_depth=150, min_samples_leaf=4, min_samples_split=4, n_estimators=150; total time=   3.7s\n",
      "[CV] END max_depth=150, min_samples_leaf=4, min_samples_split=4, n_estimators=150; total time=   3.6s\n",
      "[CV] END max_depth=150, min_samples_leaf=4, min_samples_split=5, n_estimators=50; total time=   0.9s\n",
      "[CV] END max_depth=150, min_samples_leaf=4, min_samples_split=5, n_estimators=50; total time=   1.0s\n",
      "[CV] END max_depth=150, min_samples_leaf=4, min_samples_split=4, n_estimators=150; total time=   3.3s\n",
      "[CV] END max_depth=150, min_samples_leaf=4, min_samples_split=5, n_estimators=50; total time=   1.0s\n",
      "[CV] END max_depth=150, min_samples_leaf=4, min_samples_split=4, n_estimators=200; total time=   3.6s\n",
      "[CV] END max_depth=150, min_samples_leaf=4, min_samples_split=5, n_estimators=100; total time=   1.9s\n",
      "[CV] END max_depth=150, min_samples_leaf=4, min_samples_split=4, n_estimators=200; total time=   3.8s\n",
      "[CV] END max_depth=150, min_samples_leaf=4, min_samples_split=5, n_estimators=100; total time=   1.8s\n",
      "[CV] END max_depth=150, min_samples_leaf=4, min_samples_split=5, n_estimators=100; total time=   1.8s\n",
      "[CV] END max_depth=150, min_samples_leaf=4, min_samples_split=4, n_estimators=200; total time=   4.0s\n",
      "[CV] END max_depth=150, min_samples_leaf=4, min_samples_split=5, n_estimators=150; total time=   2.8s\n",
      "[CV] END max_depth=150, min_samples_leaf=4, min_samples_split=5, n_estimators=150; total time=   2.9s\n",
      "[CV] END max_depth=150, min_samples_leaf=4, min_samples_split=6, n_estimators=50; total time=   1.0s\n",
      "[CV] END max_depth=150, min_samples_leaf=4, min_samples_split=6, n_estimators=50; total time=   1.0s\n",
      "[CV] END max_depth=150, min_samples_leaf=4, min_samples_split=5, n_estimators=150; total time=   3.0s\n",
      "[CV] END max_depth=150, min_samples_leaf=4, min_samples_split=6, n_estimators=50; total time=   1.3s\n",
      "[CV] END max_depth=150, min_samples_leaf=4, min_samples_split=5, n_estimators=200; total time=   3.9s\n",
      "[CV] END max_depth=150, min_samples_leaf=4, min_samples_split=6, n_estimators=100; total time=   2.0s\n",
      "[CV] END max_depth=150, min_samples_leaf=4, min_samples_split=6, n_estimators=100; total time=   1.9s\n",
      "[CV] END max_depth=150, min_samples_leaf=4, min_samples_split=5, n_estimators=200; total time=   3.7s\n",
      "[CV] END max_depth=150, min_samples_leaf=4, min_samples_split=5, n_estimators=200; total time=   4.0s\n",
      "[CV] END max_depth=150, min_samples_leaf=4, min_samples_split=6, n_estimators=100; total time=   1.9s\n",
      "[CV] END max_depth=150, min_samples_leaf=4, min_samples_split=6, n_estimators=150; total time=   2.7s\n",
      "[CV] END max_depth=150, min_samples_leaf=5, min_samples_split=2, n_estimators=50; total time=   0.9s\n",
      "[CV] END max_depth=150, min_samples_leaf=4, min_samples_split=6, n_estimators=150; total time=   3.0s\n",
      "[CV] END max_depth=150, min_samples_leaf=5, min_samples_split=2, n_estimators=50; total time=   1.1s\n",
      "[CV] END max_depth=150, min_samples_leaf=5, min_samples_split=2, n_estimators=50; total time=   1.1s\n",
      "[CV] END max_depth=150, min_samples_leaf=4, min_samples_split=6, n_estimators=150; total time=   3.0s\n",
      "[CV] END max_depth=150, min_samples_leaf=5, min_samples_split=2, n_estimators=100; total time=   2.0s\n",
      "[CV] END max_depth=150, min_samples_leaf=4, min_samples_split=6, n_estimators=200; total time=   4.0s\n",
      "[CV] END max_depth=150, min_samples_leaf=4, min_samples_split=6, n_estimators=200; total time=   4.1s\n",
      "[CV] END max_depth=150, min_samples_leaf=5, min_samples_split=2, n_estimators=100; total time=   2.2s\n",
      "[CV] END max_depth=150, min_samples_leaf=5, min_samples_split=2, n_estimators=100; total time=   2.0s\n",
      "[CV] END max_depth=150, min_samples_leaf=4, min_samples_split=6, n_estimators=200; total time=   4.5s\n",
      "[CV] END max_depth=150, min_samples_leaf=5, min_samples_split=2, n_estimators=150; total time=   3.0s\n",
      "[CV] END max_depth=150, min_samples_leaf=5, min_samples_split=2, n_estimators=150; total time=   2.9s\n",
      "[CV] END max_depth=150, min_samples_leaf=5, min_samples_split=4, n_estimators=50; total time=   1.0s\n",
      "[CV] END max_depth=150, min_samples_leaf=5, min_samples_split=2, n_estimators=150; total time=   2.6s\n",
      "[CV] END max_depth=150, min_samples_leaf=5, min_samples_split=4, n_estimators=50; total time=   1.2s\n",
      "[CV] END max_depth=150, min_samples_leaf=5, min_samples_split=4, n_estimators=50; total time=   0.9s\n",
      "[CV] END max_depth=150, min_samples_leaf=5, min_samples_split=2, n_estimators=200; total time=   3.9s\n",
      "[CV] END max_depth=150, min_samples_leaf=5, min_samples_split=2, n_estimators=200; total time=   4.0s\n",
      "[CV] END max_depth=150, min_samples_leaf=5, min_samples_split=4, n_estimators=100; total time=   2.0s\n",
      "[CV] END max_depth=150, min_samples_leaf=5, min_samples_split=2, n_estimators=200; total time=   4.1s\n",
      "[CV] END max_depth=150, min_samples_leaf=5, min_samples_split=4, n_estimators=100; total time=   2.0s\n",
      "[CV] END max_depth=150, min_samples_leaf=5, min_samples_split=4, n_estimators=100; total time=   2.0s\n",
      "[CV] END max_depth=150, min_samples_leaf=5, min_samples_split=5, n_estimators=50; total time=   1.2s\n",
      "[CV] END max_depth=150, min_samples_leaf=5, min_samples_split=4, n_estimators=150; total time=   3.1s\n",
      "[CV] END max_depth=150, min_samples_leaf=5, min_samples_split=5, n_estimators=50; total time=   1.3s\n",
      "[CV] END max_depth=150, min_samples_leaf=5, min_samples_split=4, n_estimators=150; total time=   3.3s\n",
      "[CV] END max_depth=150, min_samples_leaf=5, min_samples_split=4, n_estimators=150; total time=   3.4s\n",
      "[CV] END max_depth=150, min_samples_leaf=5, min_samples_split=5, n_estimators=50; total time=   1.0s\n",
      "[CV] END max_depth=150, min_samples_leaf=5, min_samples_split=4, n_estimators=200; total time=   4.3s\n",
      "[CV] END max_depth=150, min_samples_leaf=5, min_samples_split=4, n_estimators=200; total time=   4.4s\n",
      "[CV] END max_depth=150, min_samples_leaf=5, min_samples_split=5, n_estimators=100; total time=   2.0s\n",
      "[CV] END max_depth=150, min_samples_leaf=5, min_samples_split=5, n_estimators=100; total time=   2.0s\n",
      "[CV] END max_depth=150, min_samples_leaf=5, min_samples_split=4, n_estimators=200; total time=   4.5s\n",
      "[CV] END max_depth=150, min_samples_leaf=5, min_samples_split=5, n_estimators=100; total time=   2.0s\n",
      "[CV] END max_depth=150, min_samples_leaf=5, min_samples_split=5, n_estimators=150; total time=   2.8s\n",
      "[CV] END max_depth=150, min_samples_leaf=5, min_samples_split=6, n_estimators=50; total time=   1.0s\n",
      "[CV] END max_depth=150, min_samples_leaf=5, min_samples_split=5, n_estimators=150; total time=   3.1s\n",
      "[CV] END max_depth=150, min_samples_leaf=5, min_samples_split=6, n_estimators=50; total time=   1.2s\n",
      "[CV] END max_depth=150, min_samples_leaf=5, min_samples_split=5, n_estimators=150; total time=   3.1s\n",
      "[CV] END max_depth=150, min_samples_leaf=5, min_samples_split=6, n_estimators=50; total time=   1.0s\n",
      "[CV] END max_depth=150, min_samples_leaf=5, min_samples_split=6, n_estimators=100; total time=   1.9s\n",
      "[CV] END max_depth=150, min_samples_leaf=5, min_samples_split=5, n_estimators=200; total time=   4.0s\n",
      "[CV] END max_depth=150, min_samples_leaf=5, min_samples_split=5, n_estimators=200; total time=   3.8s\n",
      "[CV] END max_depth=150, min_samples_leaf=5, min_samples_split=6, n_estimators=100; total time=   1.9s\n",
      "[CV] END max_depth=150, min_samples_leaf=5, min_samples_split=5, n_estimators=200; total time=   4.0s\n",
      "[CV] END max_depth=150, min_samples_leaf=5, min_samples_split=6, n_estimators=100; total time=   1.8s\n",
      "[CV] END max_depth=150, min_samples_leaf=5, min_samples_split=6, n_estimators=150; total time=   2.8s\n",
      "[CV] END max_depth=150, min_samples_leaf=5, min_samples_split=6, n_estimators=150; total time=   2.7s\n",
      "[CV] END max_depth=None, min_samples_leaf=3, min_samples_split=2, n_estimators=50; total time=   1.0s\n",
      "[CV] END max_depth=None, min_samples_leaf=3, min_samples_split=2, n_estimators=50; total time=   1.0s\n",
      "[CV] END max_depth=150, min_samples_leaf=5, min_samples_split=6, n_estimators=150; total time=   2.7s\n",
      "[CV] END max_depth=None, min_samples_leaf=3, min_samples_split=2, n_estimators=50; total time=   0.9s\n",
      "[CV] END max_depth=150, min_samples_leaf=5, min_samples_split=6, n_estimators=200; total time=   3.7s\n",
      "[CV] END max_depth=150, min_samples_leaf=5, min_samples_split=6, n_estimators=200; total time=   3.6s\n",
      "[CV] END max_depth=None, min_samples_leaf=3, min_samples_split=2, n_estimators=100; total time=   2.0s\n",
      "[CV] END max_depth=150, min_samples_leaf=5, min_samples_split=6, n_estimators=200; total time=   3.8s\n",
      "[CV] END max_depth=None, min_samples_leaf=3, min_samples_split=2, n_estimators=100; total time=   2.1s\n",
      "[CV] END max_depth=None, min_samples_leaf=3, min_samples_split=2, n_estimators=100; total time=   2.2s\n",
      "[CV] END max_depth=None, min_samples_leaf=3, min_samples_split=4, n_estimators=50; total time=   0.9s\n",
      "[CV] END max_depth=None, min_samples_leaf=3, min_samples_split=4, n_estimators=50; total time=   1.0s\n",
      "[CV] END max_depth=None, min_samples_leaf=3, min_samples_split=2, n_estimators=150; total time=   3.3s\n",
      "[CV] END max_depth=None, min_samples_leaf=3, min_samples_split=2, n_estimators=150; total time=   3.0s\n",
      "[CV] END max_depth=None, min_samples_leaf=3, min_samples_split=2, n_estimators=150; total time=   3.1s\n",
      "[CV] END max_depth=None, min_samples_leaf=3, min_samples_split=4, n_estimators=50; total time=   1.0s\n",
      "[CV] END max_depth=None, min_samples_leaf=3, min_samples_split=2, n_estimators=200; total time=   4.0s\n",
      "[CV] END max_depth=None, min_samples_leaf=3, min_samples_split=2, n_estimators=200; total time=   4.0s\n",
      "[CV] END max_depth=None, min_samples_leaf=3, min_samples_split=2, n_estimators=200; total time=   4.0s\n",
      "[CV] END max_depth=None, min_samples_leaf=3, min_samples_split=4, n_estimators=100; total time=   2.2s\n",
      "[CV] END max_depth=None, min_samples_leaf=3, min_samples_split=4, n_estimators=100; total time=   2.2s\n",
      "[CV] END max_depth=None, min_samples_leaf=3, min_samples_split=4, n_estimators=100; total time=   2.2s\n",
      "[CV] END max_depth=None, min_samples_leaf=3, min_samples_split=5, n_estimators=50; total time=   1.0s\n",
      "[CV] END max_depth=None, min_samples_leaf=3, min_samples_split=4, n_estimators=150; total time=   3.2s\n",
      "[CV] END max_depth=None, min_samples_leaf=3, min_samples_split=5, n_estimators=50; total time=   1.0s\n",
      "[CV] END max_depth=None, min_samples_leaf=3, min_samples_split=4, n_estimators=150; total time=   3.2s\n",
      "[CV] END max_depth=None, min_samples_leaf=3, min_samples_split=5, n_estimators=50; total time=   1.0s\n",
      "[CV] END max_depth=None, min_samples_leaf=3, min_samples_split=4, n_estimators=150; total time=   3.2s\n",
      "[CV] END max_depth=None, min_samples_leaf=3, min_samples_split=4, n_estimators=200; total time=   4.0s\n",
      "[CV] END max_depth=None, min_samples_leaf=3, min_samples_split=5, n_estimators=100; total time=   1.8s\n",
      "[CV] END max_depth=None, min_samples_leaf=3, min_samples_split=4, n_estimators=200; total time=   4.1s\n",
      "[CV] END max_depth=None, min_samples_leaf=3, min_samples_split=5, n_estimators=100; total time=   1.9s\n",
      "[CV] END max_depth=None, min_samples_leaf=3, min_samples_split=4, n_estimators=200; total time=   4.3s\n",
      "[CV] END max_depth=None, min_samples_leaf=3, min_samples_split=5, n_estimators=100; total time=   1.9s\n",
      "[CV] END max_depth=None, min_samples_leaf=3, min_samples_split=5, n_estimators=150; total time=   2.8s\n",
      "[CV] END max_depth=None, min_samples_leaf=3, min_samples_split=5, n_estimators=150; total time=   2.9s\n",
      "[CV] END max_depth=None, min_samples_leaf=3, min_samples_split=6, n_estimators=50; total time=   1.2s\n",
      "[CV] END max_depth=None, min_samples_leaf=3, min_samples_split=6, n_estimators=50; total time=   1.0s\n",
      "[CV] END max_depth=None, min_samples_leaf=3, min_samples_split=5, n_estimators=150; total time=   2.8s\n",
      "[CV] END max_depth=None, min_samples_leaf=3, min_samples_split=6, n_estimators=50; total time=   0.9s\n",
      "[CV] END max_depth=None, min_samples_leaf=3, min_samples_split=5, n_estimators=200; total time=   3.9s\n",
      "[CV] END max_depth=None, min_samples_leaf=3, min_samples_split=6, n_estimators=100; total time=   1.9s\n",
      "[CV] END max_depth=None, min_samples_leaf=3, min_samples_split=5, n_estimators=200; total time=   3.8s\n",
      "[CV] END max_depth=None, min_samples_leaf=3, min_samples_split=6, n_estimators=100; total time=   1.9s\n",
      "[CV] END max_depth=None, min_samples_leaf=3, min_samples_split=5, n_estimators=200; total time=   3.9s\n",
      "[CV] END max_depth=None, min_samples_leaf=3, min_samples_split=6, n_estimators=100; total time=   2.1s\n",
      "[CV] END max_depth=None, min_samples_leaf=3, min_samples_split=6, n_estimators=150; total time=   2.9s\n",
      "[CV] END max_depth=None, min_samples_leaf=4, min_samples_split=2, n_estimators=50; total time=   0.9s\n",
      "[CV] END max_depth=None, min_samples_leaf=3, min_samples_split=6, n_estimators=150; total time=   3.0s\n",
      "[CV] END max_depth=None, min_samples_leaf=4, min_samples_split=2, n_estimators=50; total time=   0.9s\n",
      "[CV] END max_depth=None, min_samples_leaf=4, min_samples_split=2, n_estimators=50; total time=   1.0s\n",
      "[CV] END max_depth=None, min_samples_leaf=3, min_samples_split=6, n_estimators=150; total time=   2.9s\n",
      "[CV] END max_depth=None, min_samples_leaf=4, min_samples_split=2, n_estimators=100; total time=   1.9s\n",
      "[CV] END max_depth=None, min_samples_leaf=3, min_samples_split=6, n_estimators=200; total time=   4.1s\n",
      "[CV] END max_depth=None, min_samples_leaf=4, min_samples_split=2, n_estimators=100; total time=   2.1s\n",
      "[CV] END max_depth=None, min_samples_leaf=3, min_samples_split=6, n_estimators=200; total time=   4.2s\n",
      "[CV] END max_depth=None, min_samples_leaf=4, min_samples_split=2, n_estimators=100; total time=   2.1s\n",
      "[CV] END max_depth=None, min_samples_leaf=3, min_samples_split=6, n_estimators=200; total time=   4.2s\n",
      "[CV] END max_depth=None, min_samples_leaf=4, min_samples_split=2, n_estimators=150; total time=   3.2s\n",
      "[CV] END max_depth=None, min_samples_leaf=4, min_samples_split=4, n_estimators=50; total time=   0.9s\n",
      "[CV] END max_depth=None, min_samples_leaf=4, min_samples_split=2, n_estimators=150; total time=   3.2s\n",
      "[CV] END max_depth=None, min_samples_leaf=4, min_samples_split=4, n_estimators=50; total time=   1.2s\n",
      "[CV] END max_depth=None, min_samples_leaf=4, min_samples_split=2, n_estimators=150; total time=   3.1s\n",
      "[CV] END max_depth=None, min_samples_leaf=4, min_samples_split=4, n_estimators=50; total time=   1.1s\n",
      "[CV] END max_depth=None, min_samples_leaf=4, min_samples_split=2, n_estimators=200; total time=   4.0s\n",
      "[CV] END max_depth=None, min_samples_leaf=4, min_samples_split=4, n_estimators=100; total time=   2.1s\n",
      "[CV] END max_depth=None, min_samples_leaf=4, min_samples_split=4, n_estimators=100; total time=   1.9s\n",
      "[CV] END max_depth=None, min_samples_leaf=4, min_samples_split=2, n_estimators=200; total time=   4.1s\n",
      "[CV] END max_depth=None, min_samples_leaf=4, min_samples_split=4, n_estimators=100; total time=   1.8s\n",
      "[CV] END max_depth=None, min_samples_leaf=4, min_samples_split=2, n_estimators=200; total time=   4.5s\n",
      "[CV] END max_depth=None, min_samples_leaf=4, min_samples_split=4, n_estimators=150; total time=   2.9s\n",
      "[CV] END max_depth=None, min_samples_leaf=4, min_samples_split=5, n_estimators=50; total time=   1.0s\n",
      "[CV] END max_depth=None, min_samples_leaf=4, min_samples_split=4, n_estimators=150; total time=   3.0s\n",
      "[CV] END max_depth=None, min_samples_leaf=4, min_samples_split=5, n_estimators=50; total time=   1.1s\n",
      "[CV] END max_depth=None, min_samples_leaf=4, min_samples_split=4, n_estimators=150; total time=   2.9s\n",
      "[CV] END max_depth=None, min_samples_leaf=4, min_samples_split=5, n_estimators=50; total time=   1.0s\n",
      "[CV] END max_depth=None, min_samples_leaf=4, min_samples_split=4, n_estimators=200; total time=   3.8s\n",
      "[CV] END max_depth=None, min_samples_leaf=4, min_samples_split=5, n_estimators=100; total time=   1.8s\n",
      "[CV] END max_depth=None, min_samples_leaf=4, min_samples_split=4, n_estimators=200; total time=   3.9s\n",
      "[CV] END max_depth=None, min_samples_leaf=4, min_samples_split=5, n_estimators=100; total time=   1.8s\n",
      "[CV] END max_depth=None, min_samples_leaf=4, min_samples_split=5, n_estimators=100; total time=   1.8s\n",
      "[CV] END max_depth=None, min_samples_leaf=4, min_samples_split=4, n_estimators=200; total time=   4.1s\n",
      "[CV] END max_depth=None, min_samples_leaf=4, min_samples_split=5, n_estimators=150; total time=   2.6s\n",
      "[CV] END max_depth=None, min_samples_leaf=4, min_samples_split=6, n_estimators=50; total time=   0.9s\n",
      "[CV] END max_depth=None, min_samples_leaf=4, min_samples_split=5, n_estimators=150; total time=   2.8s\n",
      "[CV] END max_depth=None, min_samples_leaf=4, min_samples_split=6, n_estimators=50; total time=   0.9s\n",
      "[CV] END max_depth=None, min_samples_leaf=4, min_samples_split=5, n_estimators=150; total time=   2.8s\n",
      "[CV] END max_depth=None, min_samples_leaf=4, min_samples_split=6, n_estimators=50; total time=   1.0s\n",
      "[CV] END max_depth=None, min_samples_leaf=4, min_samples_split=5, n_estimators=200; total time=   4.1s\n",
      "[CV] END max_depth=None, min_samples_leaf=4, min_samples_split=6, n_estimators=100; total time=   2.2s\n",
      "[CV] END max_depth=None, min_samples_leaf=4, min_samples_split=5, n_estimators=200; total time=   4.2s\n",
      "[CV] END max_depth=None, min_samples_leaf=4, min_samples_split=6, n_estimators=100; total time=   2.2s\n",
      "[CV] END max_depth=None, min_samples_leaf=4, min_samples_split=6, n_estimators=100; total time=   2.2s\n",
      "[CV] END max_depth=None, min_samples_leaf=4, min_samples_split=5, n_estimators=200; total time=   4.3s\n",
      "[CV] END max_depth=None, min_samples_leaf=4, min_samples_split=6, n_estimators=150; total time=   3.4s\n",
      "[CV] END max_depth=None, min_samples_leaf=4, min_samples_split=6, n_estimators=150; total time=   3.3s\n",
      "[CV] END max_depth=None, min_samples_leaf=5, min_samples_split=2, n_estimators=50; total time=   1.1s\n",
      "[CV] END max_depth=None, min_samples_leaf=5, min_samples_split=2, n_estimators=50; total time=   1.0s\n",
      "[CV] END max_depth=None, min_samples_leaf=4, min_samples_split=6, n_estimators=150; total time=   3.3s\n",
      "[CV] END max_depth=None, min_samples_leaf=5, min_samples_split=2, n_estimators=50; total time=   1.3s\n",
      "[CV] END max_depth=None, min_samples_leaf=5, min_samples_split=2, n_estimators=100; total time=   2.3s\n",
      "[CV] END max_depth=None, min_samples_leaf=4, min_samples_split=6, n_estimators=200; total time=   4.7s\n",
      "[CV] END max_depth=None, min_samples_leaf=5, min_samples_split=2, n_estimators=100; total time=   2.3s\n",
      "[CV] END max_depth=None, min_samples_leaf=4, min_samples_split=6, n_estimators=200; total time=   4.7s\n",
      "[CV] END max_depth=None, min_samples_leaf=5, min_samples_split=2, n_estimators=100; total time=   2.1s\n",
      "[CV] END max_depth=None, min_samples_leaf=4, min_samples_split=6, n_estimators=200; total time=   4.9s\n",
      "[CV] END max_depth=None, min_samples_leaf=5, min_samples_split=2, n_estimators=150; total time=   3.0s\n",
      "[CV] END max_depth=None, min_samples_leaf=5, min_samples_split=2, n_estimators=150; total time=   3.1s\n",
      "[CV] END max_depth=None, min_samples_leaf=5, min_samples_split=4, n_estimators=50; total time=   1.3s\n",
      "[CV] END max_depth=None, min_samples_leaf=5, min_samples_split=4, n_estimators=50; total time=   1.3s\n",
      "[CV] END max_depth=None, min_samples_leaf=5, min_samples_split=4, n_estimators=50; total time=   1.3s\n",
      "[CV] END max_depth=None, min_samples_leaf=5, min_samples_split=2, n_estimators=150; total time=   3.3s\n",
      "[CV] END max_depth=None, min_samples_leaf=5, min_samples_split=4, n_estimators=100; total time=   2.0s\n",
      "[CV] END max_depth=None, min_samples_leaf=5, min_samples_split=4, n_estimators=100; total time=   2.1s\n",
      "[CV] END max_depth=None, min_samples_leaf=5, min_samples_split=2, n_estimators=200; total time=   4.5s\n",
      "[CV] END max_depth=None, min_samples_leaf=5, min_samples_split=2, n_estimators=200; total time=   4.4s\n",
      "[CV] END max_depth=None, min_samples_leaf=5, min_samples_split=4, n_estimators=100; total time=   2.2s\n",
      "[CV] END max_depth=None, min_samples_leaf=5, min_samples_split=2, n_estimators=200; total time=   4.6s\n",
      "[CV] END max_depth=None, min_samples_leaf=5, min_samples_split=4, n_estimators=150; total time=   3.0s\n",
      "[CV] END max_depth=None, min_samples_leaf=5, min_samples_split=5, n_estimators=50; total time=   1.0s\n",
      "[CV] END max_depth=None, min_samples_leaf=5, min_samples_split=4, n_estimators=150; total time=   3.1s\n",
      "[CV] END max_depth=None, min_samples_leaf=5, min_samples_split=5, n_estimators=50; total time=   1.2s\n",
      "[CV] END max_depth=None, min_samples_leaf=5, min_samples_split=4, n_estimators=150; total time=   3.0s\n",
      "[CV] END max_depth=None, min_samples_leaf=5, min_samples_split=5, n_estimators=50; total time=   1.0s\n",
      "[CV] END max_depth=None, min_samples_leaf=5, min_samples_split=5, n_estimators=100; total time=   2.3s\n",
      "[CV] END max_depth=None, min_samples_leaf=5, min_samples_split=4, n_estimators=200; total time=   4.4s\n",
      "[CV] END max_depth=None, min_samples_leaf=5, min_samples_split=5, n_estimators=100; total time=   2.3s\n",
      "[CV] END max_depth=None, min_samples_leaf=5, min_samples_split=4, n_estimators=200; total time=   4.5s\n",
      "[CV] END max_depth=None, min_samples_leaf=5, min_samples_split=4, n_estimators=200; total time=   4.4s\n",
      "[CV] END max_depth=None, min_samples_leaf=5, min_samples_split=5, n_estimators=100; total time=   2.4s\n",
      "[CV] END max_depth=None, min_samples_leaf=5, min_samples_split=5, n_estimators=150; total time=   3.3s\n",
      "[CV] END max_depth=None, min_samples_leaf=5, min_samples_split=5, n_estimators=150; total time=   3.4s\n",
      "[CV] END max_depth=None, min_samples_leaf=5, min_samples_split=6, n_estimators=50; total time=   1.1s\n",
      "[CV] END max_depth=None, min_samples_leaf=5, min_samples_split=6, n_estimators=50; total time=   1.1s\n",
      "[CV] END max_depth=None, min_samples_leaf=5, min_samples_split=5, n_estimators=150; total time=   3.2s\n",
      "[CV] END max_depth=None, min_samples_leaf=5, min_samples_split=6, n_estimators=50; total time=   1.1s\n",
      "[CV] END max_depth=None, min_samples_leaf=5, min_samples_split=6, n_estimators=100; total time=   2.0s\n",
      "[CV] END max_depth=None, min_samples_leaf=5, min_samples_split=5, n_estimators=200; total time=   4.0s\n",
      "[CV] END max_depth=None, min_samples_leaf=5, min_samples_split=5, n_estimators=200; total time=   4.3s\n",
      "[CV] END max_depth=None, min_samples_leaf=5, min_samples_split=6, n_estimators=100; total time=   2.0s\n",
      "[CV] END max_depth=None, min_samples_leaf=5, min_samples_split=5, n_estimators=200; total time=   4.2s\n",
      "[CV] END max_depth=None, min_samples_leaf=5, min_samples_split=6, n_estimators=100; total time=   2.2s\n",
      "[CV] END max_depth=None, min_samples_leaf=5, min_samples_split=6, n_estimators=150; total time=   2.7s\n",
      "[CV] END max_depth=None, min_samples_leaf=5, min_samples_split=6, n_estimators=150; total time=   2.6s\n",
      "[CV] END max_depth=None, min_samples_leaf=5, min_samples_split=6, n_estimators=150; total time=   2.4s\n",
      "[CV] END max_depth=None, min_samples_leaf=5, min_samples_split=6, n_estimators=200; total time=   2.9s\n",
      "[CV] END max_depth=None, min_samples_leaf=5, min_samples_split=6, n_estimators=200; total time=   2.9s\n",
      "[CV] END max_depth=None, min_samples_leaf=5, min_samples_split=6, n_estimators=200; total time=   2.8s\n"
     ]
    },
    {
     "data": {
      "text/html": [
       "<style>#sk-container-id-4 {color: black;}#sk-container-id-4 pre{padding: 0;}#sk-container-id-4 div.sk-toggleable {background-color: white;}#sk-container-id-4 label.sk-toggleable__label {cursor: pointer;display: block;width: 100%;margin-bottom: 0;padding: 0.3em;box-sizing: border-box;text-align: center;}#sk-container-id-4 label.sk-toggleable__label-arrow:before {content: \"▸\";float: left;margin-right: 0.25em;color: #696969;}#sk-container-id-4 label.sk-toggleable__label-arrow:hover:before {color: black;}#sk-container-id-4 div.sk-estimator:hover label.sk-toggleable__label-arrow:before {color: black;}#sk-container-id-4 div.sk-toggleable__content {max-height: 0;max-width: 0;overflow: hidden;text-align: left;background-color: #f0f8ff;}#sk-container-id-4 div.sk-toggleable__content pre {margin: 0.2em;color: black;border-radius: 0.25em;background-color: #f0f8ff;}#sk-container-id-4 input.sk-toggleable__control:checked~div.sk-toggleable__content {max-height: 200px;max-width: 100%;overflow: auto;}#sk-container-id-4 input.sk-toggleable__control:checked~label.sk-toggleable__label-arrow:before {content: \"▾\";}#sk-container-id-4 div.sk-estimator input.sk-toggleable__control:checked~label.sk-toggleable__label {background-color: #d4ebff;}#sk-container-id-4 div.sk-label input.sk-toggleable__control:checked~label.sk-toggleable__label {background-color: #d4ebff;}#sk-container-id-4 input.sk-hidden--visually {border: 0;clip: rect(1px 1px 1px 1px);clip: rect(1px, 1px, 1px, 1px);height: 1px;margin: -1px;overflow: hidden;padding: 0;position: absolute;width: 1px;}#sk-container-id-4 div.sk-estimator {font-family: monospace;background-color: #f0f8ff;border: 1px dotted black;border-radius: 0.25em;box-sizing: border-box;margin-bottom: 0.5em;}#sk-container-id-4 div.sk-estimator:hover {background-color: #d4ebff;}#sk-container-id-4 div.sk-parallel-item::after {content: \"\";width: 100%;border-bottom: 1px solid gray;flex-grow: 1;}#sk-container-id-4 div.sk-label:hover label.sk-toggleable__label {background-color: #d4ebff;}#sk-container-id-4 div.sk-serial::before {content: \"\";position: absolute;border-left: 1px solid gray;box-sizing: border-box;top: 0;bottom: 0;left: 50%;z-index: 0;}#sk-container-id-4 div.sk-serial {display: flex;flex-direction: column;align-items: center;background-color: white;padding-right: 0.2em;padding-left: 0.2em;position: relative;}#sk-container-id-4 div.sk-item {position: relative;z-index: 1;}#sk-container-id-4 div.sk-parallel {display: flex;align-items: stretch;justify-content: center;background-color: white;position: relative;}#sk-container-id-4 div.sk-item::before, #sk-container-id-4 div.sk-parallel-item::before {content: \"\";position: absolute;border-left: 1px solid gray;box-sizing: border-box;top: 0;bottom: 0;left: 50%;z-index: -1;}#sk-container-id-4 div.sk-parallel-item {display: flex;flex-direction: column;z-index: 1;position: relative;background-color: white;}#sk-container-id-4 div.sk-parallel-item:first-child::after {align-self: flex-end;width: 50%;}#sk-container-id-4 div.sk-parallel-item:last-child::after {align-self: flex-start;width: 50%;}#sk-container-id-4 div.sk-parallel-item:only-child::after {width: 0;}#sk-container-id-4 div.sk-dashed-wrapped {border: 1px dashed gray;margin: 0 0.4em 0.5em 0.4em;box-sizing: border-box;padding-bottom: 0.4em;background-color: white;}#sk-container-id-4 div.sk-label label {font-family: monospace;font-weight: bold;display: inline-block;line-height: 1.2em;}#sk-container-id-4 div.sk-label-container {text-align: center;}#sk-container-id-4 div.sk-container {/* jupyter's `normalize.less` sets `[hidden] { display: none; }` but bootstrap.min.css set `[hidden] { display: none !important; }` so we also need the `!important` here to be able to override the default hidden behavior on the sphinx rendered scikit-learn.org. See: https://github.com/scikit-learn/scikit-learn/issues/21755 */display: inline-block !important;position: relative;}#sk-container-id-4 div.sk-text-repr-fallback {display: none;}</style><div id=\"sk-container-id-4\" class=\"sk-top-container\"><div class=\"sk-text-repr-fallback\"><pre>GridSearchCV(cv=3, estimator=RandomForestClassifier(random_state=1), n_jobs=-1,\n",
       "             param_grid={&#x27;max_depth&#x27;: [50, 100, 150, None],\n",
       "                         &#x27;min_samples_leaf&#x27;: [3, 4, 5],\n",
       "                         &#x27;min_samples_split&#x27;: [2, 4, 5, 6],\n",
       "                         &#x27;n_estimators&#x27;: [50, 100, 150, 200]},\n",
       "             verbose=2)</pre><b>In a Jupyter environment, please rerun this cell to show the HTML representation or trust the notebook. <br />On GitHub, the HTML representation is unable to render, please try loading this page with nbviewer.org.</b></div><div class=\"sk-container\" hidden><div class=\"sk-item sk-dashed-wrapped\"><div class=\"sk-label-container\"><div class=\"sk-label sk-toggleable\"><input class=\"sk-toggleable__control sk-hidden--visually\" id=\"sk-estimator-id-6\" type=\"checkbox\" ><label for=\"sk-estimator-id-6\" class=\"sk-toggleable__label sk-toggleable__label-arrow\">GridSearchCV</label><div class=\"sk-toggleable__content\"><pre>GridSearchCV(cv=3, estimator=RandomForestClassifier(random_state=1), n_jobs=-1,\n",
       "             param_grid={&#x27;max_depth&#x27;: [50, 100, 150, None],\n",
       "                         &#x27;min_samples_leaf&#x27;: [3, 4, 5],\n",
       "                         &#x27;min_samples_split&#x27;: [2, 4, 5, 6],\n",
       "                         &#x27;n_estimators&#x27;: [50, 100, 150, 200]},\n",
       "             verbose=2)</pre></div></div></div><div class=\"sk-parallel\"><div class=\"sk-parallel-item\"><div class=\"sk-item\"><div class=\"sk-label-container\"><div class=\"sk-label sk-toggleable\"><input class=\"sk-toggleable__control sk-hidden--visually\" id=\"sk-estimator-id-7\" type=\"checkbox\" ><label for=\"sk-estimator-id-7\" class=\"sk-toggleable__label sk-toggleable__label-arrow\">estimator: RandomForestClassifier</label><div class=\"sk-toggleable__content\"><pre>RandomForestClassifier(random_state=1)</pre></div></div></div><div class=\"sk-serial\"><div class=\"sk-item\"><div class=\"sk-estimator sk-toggleable\"><input class=\"sk-toggleable__control sk-hidden--visually\" id=\"sk-estimator-id-8\" type=\"checkbox\" ><label for=\"sk-estimator-id-8\" class=\"sk-toggleable__label sk-toggleable__label-arrow\">RandomForestClassifier</label><div class=\"sk-toggleable__content\"><pre>RandomForestClassifier(random_state=1)</pre></div></div></div></div></div></div></div></div></div></div>"
      ],
      "text/plain": [
       "GridSearchCV(cv=3, estimator=RandomForestClassifier(random_state=1), n_jobs=-1,\n",
       "             param_grid={'max_depth': [50, 100, 150, None],\n",
       "                         'min_samples_leaf': [3, 4, 5],\n",
       "                         'min_samples_split': [2, 4, 5, 6],\n",
       "                         'n_estimators': [50, 100, 150, 200]},\n",
       "             verbose=2)"
      ]
     },
     "execution_count": 109,
     "metadata": {},
     "output_type": "execute_result"
    }
   ],
   "source": [
    "grid_search = GridSearchCV(estimator=rf, param_grid=param_grid, cv=3, n_jobs=-1, verbose=2)\n",
    "grid_search.fit(X_train, y_train)"
   ]
  },
  {
   "cell_type": "code",
   "execution_count": 110,
   "metadata": {},
   "outputs": [
    {
     "data": {
      "text/plain": [
       "{'max_depth': 50,\n",
       " 'min_samples_leaf': 3,\n",
       " 'min_samples_split': 2,\n",
       " 'n_estimators': 200}"
      ]
     },
     "execution_count": 110,
     "metadata": {},
     "output_type": "execute_result"
    }
   ],
   "source": [
    "grid_search.best_params_"
   ]
  },
  {
   "cell_type": "code",
   "execution_count": 112,
   "metadata": {},
   "outputs": [],
   "source": [
    "rf_grid_tuned = RandomForestClassifier(**grid_search.best_params_)\n",
    "rf_grid_tuned.fit(X_train, y_train)\n",
    "y_pred = rf_grid_tuned.predict(X_test)"
   ]
  },
  {
   "cell_type": "markdown",
   "metadata": {},
   "source": [
    "Metrics Performance"
   ]
  },
  {
   "cell_type": "code",
   "execution_count": 113,
   "metadata": {},
   "outputs": [
    {
     "name": "stdout",
     "output_type": "stream",
     "text": [
      "              precision    recall  f1-score   support\n",
      "\n",
      "           0       0.82      0.86      0.84       918\n",
      "           1       0.92      0.91      0.91      1653\n",
      "           2       1.00      1.00      1.00        47\n",
      "           3       0.96      1.00      0.98        25\n",
      "           4       0.84      0.68      0.75        53\n",
      "\n",
      "    accuracy                           0.89      2696\n",
      "   macro avg       0.91      0.89      0.90      2696\n",
      "weighted avg       0.89      0.89      0.89      2696\n",
      "\n"
     ]
    }
   ],
   "source": [
    "print(classification_report(y_test, y_pred))"
   ]
  },
  {
   "cell_type": "code",
   "execution_count": 115,
   "metadata": {},
   "outputs": [],
   "source": [
    "param_grid_space = {\n",
    "    'max_depth': hp.quniform(\"max_depth\", 3, 18, 1),\n",
    "    'gamma': hp.uniform ('gamma', 1,9),\n",
    "    'reg_alpha' : hp.quniform('reg_alpha', 40,180,1),\n",
    "    'reg_lambda' : hp.uniform('reg_lambda', 0,1),\n",
    "    'colsample_bytree' : hp.uniform('colsample_bytree', 0.5,1),\n",
    "    'min_child_weight' : hp.quniform('min_child_weight', 0, 10, 1),\n",
    "    'n_estimators': 180\n",
    "}"
   ]
  },
  {
   "cell_type": "code",
   "execution_count": 116,
   "metadata": {},
   "outputs": [],
   "source": [
    "def optimize(param_grid_space):\n",
    "    xgbm = XGBClassifier(n_estimators=param_grid_space['n_estimators'], max_depth= int(param_grid_space['max_depth']),\n",
    "                         gamma=param_grid_space['gamma'])\n",
    "    xgbm.fit(X_train, y_train)\n",
    "    y_pred = xgbm.predict(X_test)\n",
    "    f1score = f1_score(y_test, y_pred, average=\"macro\")\n",
    "    \n",
    "    return -1*f1score"
   ]
  },
  {
   "cell_type": "code",
   "execution_count": 118,
   "metadata": {},
   "outputs": [
    {
     "name": "stdout",
     "output_type": "stream",
     "text": [
      "100%|██████████| 3/3 [00:30<00:00, 10.07s/trial, best loss: -0.9115169863802268]\n"
     ]
    }
   ],
   "source": [
    "trail = Trials()\n",
    "result = fmin(fn=optimize, space=param_grid_space, max_evals=3, trials=trail, algo=tpe.suggest)\n"
   ]
  },
  {
   "cell_type": "code",
   "execution_count": 119,
   "metadata": {},
   "outputs": [
    {
     "data": {
      "text/plain": [
       "{'colsample_bytree': 0.8799270057298496,\n",
       " 'gamma': 2.4778215252883395,\n",
       " 'max_depth': 12.0,\n",
       " 'min_child_weight': 0.0,\n",
       " 'reg_alpha': 124.0,\n",
       " 'reg_lambda': 0.9446684860539172}"
      ]
     },
     "execution_count": 119,
     "metadata": {},
     "output_type": "execute_result"
    }
   ],
   "source": [
    "result"
   ]
  },
  {
   "cell_type": "code",
   "execution_count": 120,
   "metadata": {},
   "outputs": [],
   "source": [
    "result['max_depth'] = int(result['max_depth'])"
   ]
  },
  {
   "cell_type": "code",
   "execution_count": 121,
   "metadata": {},
   "outputs": [],
   "source": [
    "xg_tuned = XGBClassifier(**result)\n",
    "xg_tuned.fit(X_train, y_train)\n",
    "y_pred = xg_tuned.predict(X_test)"
   ]
  },
  {
   "cell_type": "code",
   "execution_count": 122,
   "metadata": {},
   "outputs": [
    {
     "name": "stdout",
     "output_type": "stream",
     "text": [
      "              precision    recall  f1-score   support\n",
      "\n",
      "           0       0.77      0.84      0.80       918\n",
      "           1       0.91      0.89      0.90      1653\n",
      "           2       1.00      1.00      1.00        47\n",
      "           3       0.94      0.64      0.76        25\n",
      "           4       0.82      0.26      0.40        53\n",
      "\n",
      "    accuracy                           0.86      2696\n",
      "   macro avg       0.89      0.73      0.77      2696\n",
      "weighted avg       0.86      0.86      0.86      2696\n",
      "\n"
     ]
    }
   ],
   "source": [
    "print(classification_report(y_test, y_pred))"
   ]
  },
  {
   "cell_type": "code",
   "execution_count": null,
   "metadata": {},
   "outputs": [],
   "source": []
  }
 ],
 "metadata": {
  "kernelspec": {
   "display_name": ".env",
   "language": "python",
   "name": "python3"
  },
  "language_info": {
   "codemirror_mode": {
    "name": "ipython",
    "version": 3
   },
   "file_extension": ".py",
   "mimetype": "text/x-python",
   "name": "python",
   "nbconvert_exporter": "python",
   "pygments_lexer": "ipython3",
   "version": "3.9.6"
  },
  "orig_nbformat": 4
 },
 "nbformat": 4,
 "nbformat_minor": 2
}
